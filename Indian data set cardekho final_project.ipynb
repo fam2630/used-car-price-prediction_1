{
 "cells": [
  {
   "cell_type": "code",
   "execution_count": 1,
   "id": "0ade654b",
   "metadata": {},
   "outputs": [],
   "source": [
    "import numpy as np\n",
    "import pandas as pd\n",
    "import matplotlib.pyplot as plt\n"
   ]
  },
  {
   "cell_type": "code",
   "execution_count": 2,
   "id": "7efb818d",
   "metadata": {},
   "outputs": [],
   "source": [
    " car = pd.read_csv('cardekho.csv')"
   ]
  },
  {
   "cell_type": "code",
   "execution_count": 3,
   "id": "df2a3060",
   "metadata": {},
   "outputs": [
    {
     "data": {
      "text/html": [
       "<div>\n",
       "<style scoped>\n",
       "    .dataframe tbody tr th:only-of-type {\n",
       "        vertical-align: middle;\n",
       "    }\n",
       "\n",
       "    .dataframe tbody tr th {\n",
       "        vertical-align: top;\n",
       "    }\n",
       "\n",
       "    .dataframe thead th {\n",
       "        text-align: right;\n",
       "    }\n",
       "</style>\n",
       "<table border=\"1\" class=\"dataframe\">\n",
       "  <thead>\n",
       "    <tr style=\"text-align: right;\">\n",
       "      <th></th>\n",
       "      <th>Source.Name</th>\n",
       "      <th>web-scraper-order</th>\n",
       "      <th>web-scraper-start-url</th>\n",
       "      <th>full_name</th>\n",
       "      <th>selling_price</th>\n",
       "      <th>new-price</th>\n",
       "      <th>year</th>\n",
       "      <th>seller_type</th>\n",
       "      <th>km_driven</th>\n",
       "      <th>owner_type</th>\n",
       "      <th>fuel_type</th>\n",
       "      <th>transmission_type</th>\n",
       "      <th>mileage</th>\n",
       "      <th>engine</th>\n",
       "      <th>max_power</th>\n",
       "      <th>seats</th>\n",
       "    </tr>\n",
       "  </thead>\n",
       "  <tbody>\n",
       "    <tr>\n",
       "      <th>0</th>\n",
       "      <td>cardekho_extract(0-2000).csv</td>\n",
       "      <td>1611917819-1662</td>\n",
       "      <td>https://www.cardekho.com/used-car-details/used...</td>\n",
       "      <td>Maruti Alto Std</td>\n",
       "      <td>1.2 Lakh*</td>\n",
       "      <td>NaN</td>\n",
       "      <td>2012.0</td>\n",
       "      <td>Individual</td>\n",
       "      <td>1,20,000 kms</td>\n",
       "      <td>First Owner</td>\n",
       "      <td>Petrol</td>\n",
       "      <td>Manual</td>\n",
       "      <td>Mileage19.7 kmpl</td>\n",
       "      <td>Engine796 CC</td>\n",
       "      <td>Max Power46.3 bhp</td>\n",
       "      <td>Seats5</td>\n",
       "    </tr>\n",
       "    <tr>\n",
       "      <th>1</th>\n",
       "      <td>cardekho_extract(0-2000).csv</td>\n",
       "      <td>1611918361-1902</td>\n",
       "      <td>https://www.cardekho.com/used-car-details/used...</td>\n",
       "      <td>Hyundai Grand i10 Asta</td>\n",
       "      <td>5.5 Lakh*</td>\n",
       "      <td>New Car (On-Road Price) : Rs.7.11-7.48 Lakh*</td>\n",
       "      <td>2016.0</td>\n",
       "      <td>Individual</td>\n",
       "      <td>20,000 kms</td>\n",
       "      <td>First Owner</td>\n",
       "      <td>Petrol</td>\n",
       "      <td>Manual</td>\n",
       "      <td>Mileage18.9 kmpl</td>\n",
       "      <td>Engine1197 CC</td>\n",
       "      <td>Max Power82 bhp</td>\n",
       "      <td>Seats5</td>\n",
       "    </tr>\n",
       "    <tr>\n",
       "      <th>2</th>\n",
       "      <td>cardekho_extract(0-2000).csv</td>\n",
       "      <td>1611917012-1306</td>\n",
       "      <td>https://www.cardekho.com/used-car-details/used...</td>\n",
       "      <td>Hyundai i20 Asta</td>\n",
       "      <td>2.15 Lakh*</td>\n",
       "      <td>NaN</td>\n",
       "      <td>2010.0</td>\n",
       "      <td>Individual</td>\n",
       "      <td>60,000 kms</td>\n",
       "      <td>First Owner</td>\n",
       "      <td>Petrol</td>\n",
       "      <td>Manual</td>\n",
       "      <td>Mileage17.0 kmpl</td>\n",
       "      <td>Engine1197 CC</td>\n",
       "      <td>Max Power80 bhp</td>\n",
       "      <td>Seats5</td>\n",
       "    </tr>\n",
       "    <tr>\n",
       "      <th>3</th>\n",
       "      <td>cardekho_extract(0-2000).csv</td>\n",
       "      <td>1611917695-1607</td>\n",
       "      <td>https://www.cardekho.com/used-car-details/used...</td>\n",
       "      <td>Maruti Alto K10 2010-2014 VXI</td>\n",
       "      <td>2.26 Lakh*</td>\n",
       "      <td>NaN</td>\n",
       "      <td>2012.0</td>\n",
       "      <td>Individual</td>\n",
       "      <td>37,000 kms</td>\n",
       "      <td>First Owner</td>\n",
       "      <td>Petrol</td>\n",
       "      <td>Manual</td>\n",
       "      <td>Mileage20.92 kmpl</td>\n",
       "      <td>Engine998 CC</td>\n",
       "      <td>Max Power67.1 bhp</td>\n",
       "      <td>Seats5</td>\n",
       "    </tr>\n",
       "    <tr>\n",
       "      <th>4</th>\n",
       "      <td>cardekho_extract(0-2000).csv</td>\n",
       "      <td>1611914861-367</td>\n",
       "      <td>https://www.cardekho.com/used-car-details/used...</td>\n",
       "      <td>Ford Ecosport 2015-2021 1.5 TDCi Titanium BSIV</td>\n",
       "      <td>5.7 Lakh*</td>\n",
       "      <td>New Car (On-Road Price) : Rs.10.14-13.79 Lakh*</td>\n",
       "      <td>2015.0</td>\n",
       "      <td>Dealer</td>\n",
       "      <td>30,000 kms</td>\n",
       "      <td>First Owner</td>\n",
       "      <td>Diesel</td>\n",
       "      <td>Manual</td>\n",
       "      <td>Mileage22.77 kmpl</td>\n",
       "      <td>Engine1498 CC</td>\n",
       "      <td>Max Power98.59 bhp</td>\n",
       "      <td>Seats5</td>\n",
       "    </tr>\n",
       "    <tr>\n",
       "      <th>...</th>\n",
       "      <td>...</td>\n",
       "      <td>...</td>\n",
       "      <td>...</td>\n",
       "      <td>...</td>\n",
       "      <td>...</td>\n",
       "      <td>...</td>\n",
       "      <td>...</td>\n",
       "      <td>...</td>\n",
       "      <td>...</td>\n",
       "      <td>...</td>\n",
       "      <td>...</td>\n",
       "      <td>...</td>\n",
       "      <td>...</td>\n",
       "      <td>...</td>\n",
       "      <td>...</td>\n",
       "      <td>...</td>\n",
       "    </tr>\n",
       "    <tr>\n",
       "      <th>20021</th>\n",
       "      <td>cardekho_extract(5001-10000).csv</td>\n",
       "      <td>1612103494-3517</td>\n",
       "      <td>https://www.cardekho.com/used-car-details/used...</td>\n",
       "      <td>Toyota Platinum Etios 1.4 GXD</td>\n",
       "      <td>6.5 Lakh*</td>\n",
       "      <td>NaN</td>\n",
       "      <td>2017.0</td>\n",
       "      <td>Dealer</td>\n",
       "      <td>69,480 kms</td>\n",
       "      <td>First Owner</td>\n",
       "      <td>Diesel</td>\n",
       "      <td>Manual</td>\n",
       "      <td>Mileage23.59 kmpl</td>\n",
       "      <td>Engine1364 CC</td>\n",
       "      <td>Max Power67.05 bhp</td>\n",
       "      <td>Seats5</td>\n",
       "    </tr>\n",
       "    <tr>\n",
       "      <th>20022</th>\n",
       "      <td>cardekho_extract(5001-10000).csv</td>\n",
       "      <td>1612096792-548</td>\n",
       "      <td>https://www.cardekho.com/used-car-details/used...</td>\n",
       "      <td>Maruti Ertiga BSIV VXI</td>\n",
       "      <td>9.25 Lakh*</td>\n",
       "      <td>NaN</td>\n",
       "      <td>2019.0</td>\n",
       "      <td>Dealer</td>\n",
       "      <td>18,000 kms</td>\n",
       "      <td>First Owner</td>\n",
       "      <td>Petrol</td>\n",
       "      <td>Manual</td>\n",
       "      <td>Mileage17.5 kmpl</td>\n",
       "      <td>Engine1373 CC</td>\n",
       "      <td>Max Power91.1 bhp</td>\n",
       "      <td>Seats7</td>\n",
       "    </tr>\n",
       "    <tr>\n",
       "      <th>20023</th>\n",
       "      <td>cardekho_extract(5001-10000).csv</td>\n",
       "      <td>1612105576-4445</td>\n",
       "      <td>https://www.cardekho.com/used-car-details/used...</td>\n",
       "      <td>Skoda Rapid 1.5 TDI Elegance</td>\n",
       "      <td>4.25 Lakh*</td>\n",
       "      <td>NaN</td>\n",
       "      <td>2015.0</td>\n",
       "      <td>Dealer</td>\n",
       "      <td>67,000 kms</td>\n",
       "      <td>First Owner</td>\n",
       "      <td>Diesel</td>\n",
       "      <td>Manual</td>\n",
       "      <td>Mileage21.14 kmpl</td>\n",
       "      <td>Engine1498 CC</td>\n",
       "      <td>Max Power103.52 bhp</td>\n",
       "      <td>Seats5</td>\n",
       "    </tr>\n",
       "    <tr>\n",
       "      <th>20024</th>\n",
       "      <td>cardekho_extract(5001-10000).csv</td>\n",
       "      <td>1612100458-2178</td>\n",
       "      <td>https://www.cardekho.com/used-car-details/used...</td>\n",
       "      <td>Mahindra XUV500 W6 2WD</td>\n",
       "      <td>12.25 Lakh*</td>\n",
       "      <td>New Car (On-Road Price) : Rs.17.83-24.91 Lakh*</td>\n",
       "      <td>2016.0</td>\n",
       "      <td>Dealer</td>\n",
       "      <td>38,00,000 kms</td>\n",
       "      <td>First Owner</td>\n",
       "      <td>Diesel</td>\n",
       "      <td>Manual</td>\n",
       "      <td>Mileage16.0 kmpl</td>\n",
       "      <td>Engine2179 CC</td>\n",
       "      <td>Max Power140 bhp</td>\n",
       "      <td>Seats7</td>\n",
       "    </tr>\n",
       "    <tr>\n",
       "      <th>20025</th>\n",
       "      <td>cardekho_extract(5001-10000).csv</td>\n",
       "      <td>1612098778-1432</td>\n",
       "      <td>https://www.cardekho.com/used-car-details/used...</td>\n",
       "      <td>Honda City i-VTEC CVT VX</td>\n",
       "      <td>12 Lakh*</td>\n",
       "      <td>NaN</td>\n",
       "      <td>2019.0</td>\n",
       "      <td>Dealer</td>\n",
       "      <td>13,000 kms</td>\n",
       "      <td>First Owner</td>\n",
       "      <td>Petrol</td>\n",
       "      <td>Automatic</td>\n",
       "      <td>Mileage18.0 kmpl</td>\n",
       "      <td>Engine1497 CC</td>\n",
       "      <td>Max Power117.6 bhp</td>\n",
       "      <td>Seats5</td>\n",
       "    </tr>\n",
       "  </tbody>\n",
       "</table>\n",
       "<p>20026 rows × 16 columns</p>\n",
       "</div>"
      ],
      "text/plain": [
       "                            Source.Name web-scraper-order   \n",
       "0          cardekho_extract(0-2000).csv   1611917819-1662  \\\n",
       "1          cardekho_extract(0-2000).csv   1611918361-1902   \n",
       "2          cardekho_extract(0-2000).csv   1611917012-1306   \n",
       "3          cardekho_extract(0-2000).csv   1611917695-1607   \n",
       "4          cardekho_extract(0-2000).csv    1611914861-367   \n",
       "...                                 ...               ...   \n",
       "20021  cardekho_extract(5001-10000).csv   1612103494-3517   \n",
       "20022  cardekho_extract(5001-10000).csv    1612096792-548   \n",
       "20023  cardekho_extract(5001-10000).csv   1612105576-4445   \n",
       "20024  cardekho_extract(5001-10000).csv   1612100458-2178   \n",
       "20025  cardekho_extract(5001-10000).csv   1612098778-1432   \n",
       "\n",
       "                                   web-scraper-start-url   \n",
       "0      https://www.cardekho.com/used-car-details/used...  \\\n",
       "1      https://www.cardekho.com/used-car-details/used...   \n",
       "2      https://www.cardekho.com/used-car-details/used...   \n",
       "3      https://www.cardekho.com/used-car-details/used...   \n",
       "4      https://www.cardekho.com/used-car-details/used...   \n",
       "...                                                  ...   \n",
       "20021  https://www.cardekho.com/used-car-details/used...   \n",
       "20022  https://www.cardekho.com/used-car-details/used...   \n",
       "20023  https://www.cardekho.com/used-car-details/used...   \n",
       "20024  https://www.cardekho.com/used-car-details/used...   \n",
       "20025  https://www.cardekho.com/used-car-details/used...   \n",
       "\n",
       "                                            full_name selling_price   \n",
       "0                                     Maruti Alto Std     1.2 Lakh*  \\\n",
       "1                              Hyundai Grand i10 Asta     5.5 Lakh*   \n",
       "2                                    Hyundai i20 Asta    2.15 Lakh*   \n",
       "3                       Maruti Alto K10 2010-2014 VXI    2.26 Lakh*   \n",
       "4      Ford Ecosport 2015-2021 1.5 TDCi Titanium BSIV     5.7 Lakh*   \n",
       "...                                               ...           ...   \n",
       "20021                   Toyota Platinum Etios 1.4 GXD     6.5 Lakh*   \n",
       "20022                          Maruti Ertiga BSIV VXI    9.25 Lakh*   \n",
       "20023                    Skoda Rapid 1.5 TDI Elegance    4.25 Lakh*   \n",
       "20024                          Mahindra XUV500 W6 2WD   12.25 Lakh*   \n",
       "20025                        Honda City i-VTEC CVT VX      12 Lakh*   \n",
       "\n",
       "                                            new-price    year seller_type   \n",
       "0                                                 NaN  2012.0  Individual  \\\n",
       "1        New Car (On-Road Price) : Rs.7.11-7.48 Lakh*  2016.0  Individual   \n",
       "2                                                 NaN  2010.0  Individual   \n",
       "3                                                 NaN  2012.0  Individual   \n",
       "4      New Car (On-Road Price) : Rs.10.14-13.79 Lakh*  2015.0      Dealer   \n",
       "...                                               ...     ...         ...   \n",
       "20021                                             NaN  2017.0      Dealer   \n",
       "20022                                             NaN  2019.0      Dealer   \n",
       "20023                                             NaN  2015.0      Dealer   \n",
       "20024  New Car (On-Road Price) : Rs.17.83-24.91 Lakh*  2016.0      Dealer   \n",
       "20025                                             NaN  2019.0      Dealer   \n",
       "\n",
       "           km_driven   owner_type fuel_type transmission_type   \n",
       "0       1,20,000 kms  First Owner    Petrol            Manual  \\\n",
       "1         20,000 kms  First Owner    Petrol            Manual   \n",
       "2         60,000 kms  First Owner    Petrol            Manual   \n",
       "3         37,000 kms  First Owner    Petrol            Manual   \n",
       "4         30,000 kms  First Owner    Diesel            Manual   \n",
       "...              ...          ...       ...               ...   \n",
       "20021     69,480 kms  First Owner    Diesel            Manual   \n",
       "20022     18,000 kms  First Owner    Petrol            Manual   \n",
       "20023     67,000 kms  First Owner    Diesel            Manual   \n",
       "20024  38,00,000 kms  First Owner    Diesel            Manual   \n",
       "20025     13,000 kms  First Owner    Petrol         Automatic   \n",
       "\n",
       "                 mileage         engine            max_power   seats  \n",
       "0       Mileage19.7 kmpl   Engine796 CC    Max Power46.3 bhp  Seats5  \n",
       "1       Mileage18.9 kmpl  Engine1197 CC      Max Power82 bhp  Seats5  \n",
       "2       Mileage17.0 kmpl  Engine1197 CC      Max Power80 bhp  Seats5  \n",
       "3      Mileage20.92 kmpl   Engine998 CC    Max Power67.1 bhp  Seats5  \n",
       "4      Mileage22.77 kmpl  Engine1498 CC   Max Power98.59 bhp  Seats5  \n",
       "...                  ...            ...                  ...     ...  \n",
       "20021  Mileage23.59 kmpl  Engine1364 CC   Max Power67.05 bhp  Seats5  \n",
       "20022   Mileage17.5 kmpl  Engine1373 CC    Max Power91.1 bhp  Seats7  \n",
       "20023  Mileage21.14 kmpl  Engine1498 CC  Max Power103.52 bhp  Seats5  \n",
       "20024   Mileage16.0 kmpl  Engine2179 CC     Max Power140 bhp  Seats7  \n",
       "20025   Mileage18.0 kmpl  Engine1497 CC   Max Power117.6 bhp  Seats5  \n",
       "\n",
       "[20026 rows x 16 columns]"
      ]
     },
     "execution_count": 3,
     "metadata": {},
     "output_type": "execute_result"
    }
   ],
   "source": [
    "car"
   ]
  },
  {
   "cell_type": "code",
   "execution_count": 4,
   "id": "1d4a58b9",
   "metadata": {},
   "outputs": [
    {
     "data": {
      "text/plain": [
       "(20026, 16)"
      ]
     },
     "execution_count": 4,
     "metadata": {},
     "output_type": "execute_result"
    }
   ],
   "source": [
    "car.shape\n"
   ]
  },
  {
   "cell_type": "code",
   "execution_count": 5,
   "id": "e3c064ec",
   "metadata": {},
   "outputs": [
    {
     "name": "stdout",
     "output_type": "stream",
     "text": [
      "<class 'pandas.core.frame.DataFrame'>\n",
      "RangeIndex: 20026 entries, 0 to 20025\n",
      "Data columns (total 16 columns):\n",
      " #   Column                 Non-Null Count  Dtype  \n",
      "---  ------                 --------------  -----  \n",
      " 0   Source.Name            20026 non-null  object \n",
      " 1   web-scraper-order      20026 non-null  object \n",
      " 2   web-scraper-start-url  20026 non-null  object \n",
      " 3   full_name              19980 non-null  object \n",
      " 4   selling_price          19980 non-null  object \n",
      " 5   new-price              9566 non-null   object \n",
      " 6   year                   19980 non-null  float64\n",
      " 7   seller_type            19980 non-null  object \n",
      " 8   km_driven              19980 non-null  object \n",
      " 9   owner_type             19980 non-null  object \n",
      " 10  fuel_type              19980 non-null  object \n",
      " 11  transmission_type      19980 non-null  object \n",
      " 12  mileage                19980 non-null  object \n",
      " 13  engine                 19921 non-null  object \n",
      " 14  max_power              19921 non-null  object \n",
      " 15  seats                  19853 non-null  object \n",
      "dtypes: float64(1), object(15)\n",
      "memory usage: 2.4+ MB\n"
     ]
    }
   ],
   "source": [
    "car.info()"
   ]
  },
  {
   "cell_type": "code",
   "execution_count": 6,
   "id": "889ba4d8",
   "metadata": {},
   "outputs": [],
   "source": [
    "car = car.drop('Source.Name',axis = 1)\n",
    "car = car.drop('web-scraper-order',axis = 1)\n",
    "car = car.drop('web-scraper-start-url',axis = 1)\n",
    "car = car.drop('new-price',axis = 1)\n",
    "car = car.drop('engine',axis = 1)\n",
    "car = car.drop('max_power',axis = 1)\n",
    "car = car.drop('seller_type',axis = 1)\n",
    "car = car.drop('owner_type',axis = 1)\n",
    "\n"
   ]
  },
  {
   "cell_type": "code",
   "execution_count": 7,
   "id": "6edf4a25",
   "metadata": {},
   "outputs": [
    {
     "data": {
      "text/html": [
       "<div>\n",
       "<style scoped>\n",
       "    .dataframe tbody tr th:only-of-type {\n",
       "        vertical-align: middle;\n",
       "    }\n",
       "\n",
       "    .dataframe tbody tr th {\n",
       "        vertical-align: top;\n",
       "    }\n",
       "\n",
       "    .dataframe thead th {\n",
       "        text-align: right;\n",
       "    }\n",
       "</style>\n",
       "<table border=\"1\" class=\"dataframe\">\n",
       "  <thead>\n",
       "    <tr style=\"text-align: right;\">\n",
       "      <th></th>\n",
       "      <th>full_name</th>\n",
       "      <th>selling_price</th>\n",
       "      <th>year</th>\n",
       "      <th>km_driven</th>\n",
       "      <th>fuel_type</th>\n",
       "      <th>transmission_type</th>\n",
       "      <th>mileage</th>\n",
       "      <th>seats</th>\n",
       "    </tr>\n",
       "  </thead>\n",
       "  <tbody>\n",
       "    <tr>\n",
       "      <th>0</th>\n",
       "      <td>Maruti Alto Std</td>\n",
       "      <td>1.2 Lakh*</td>\n",
       "      <td>2012.0</td>\n",
       "      <td>1,20,000 kms</td>\n",
       "      <td>Petrol</td>\n",
       "      <td>Manual</td>\n",
       "      <td>Mileage19.7 kmpl</td>\n",
       "      <td>Seats5</td>\n",
       "    </tr>\n",
       "    <tr>\n",
       "      <th>1</th>\n",
       "      <td>Hyundai Grand i10 Asta</td>\n",
       "      <td>5.5 Lakh*</td>\n",
       "      <td>2016.0</td>\n",
       "      <td>20,000 kms</td>\n",
       "      <td>Petrol</td>\n",
       "      <td>Manual</td>\n",
       "      <td>Mileage18.9 kmpl</td>\n",
       "      <td>Seats5</td>\n",
       "    </tr>\n",
       "    <tr>\n",
       "      <th>2</th>\n",
       "      <td>Hyundai i20 Asta</td>\n",
       "      <td>2.15 Lakh*</td>\n",
       "      <td>2010.0</td>\n",
       "      <td>60,000 kms</td>\n",
       "      <td>Petrol</td>\n",
       "      <td>Manual</td>\n",
       "      <td>Mileage17.0 kmpl</td>\n",
       "      <td>Seats5</td>\n",
       "    </tr>\n",
       "    <tr>\n",
       "      <th>3</th>\n",
       "      <td>Maruti Alto K10 2010-2014 VXI</td>\n",
       "      <td>2.26 Lakh*</td>\n",
       "      <td>2012.0</td>\n",
       "      <td>37,000 kms</td>\n",
       "      <td>Petrol</td>\n",
       "      <td>Manual</td>\n",
       "      <td>Mileage20.92 kmpl</td>\n",
       "      <td>Seats5</td>\n",
       "    </tr>\n",
       "    <tr>\n",
       "      <th>4</th>\n",
       "      <td>Ford Ecosport 2015-2021 1.5 TDCi Titanium BSIV</td>\n",
       "      <td>5.7 Lakh*</td>\n",
       "      <td>2015.0</td>\n",
       "      <td>30,000 kms</td>\n",
       "      <td>Diesel</td>\n",
       "      <td>Manual</td>\n",
       "      <td>Mileage22.77 kmpl</td>\n",
       "      <td>Seats5</td>\n",
       "    </tr>\n",
       "    <tr>\n",
       "      <th>...</th>\n",
       "      <td>...</td>\n",
       "      <td>...</td>\n",
       "      <td>...</td>\n",
       "      <td>...</td>\n",
       "      <td>...</td>\n",
       "      <td>...</td>\n",
       "      <td>...</td>\n",
       "      <td>...</td>\n",
       "    </tr>\n",
       "    <tr>\n",
       "      <th>20021</th>\n",
       "      <td>Toyota Platinum Etios 1.4 GXD</td>\n",
       "      <td>6.5 Lakh*</td>\n",
       "      <td>2017.0</td>\n",
       "      <td>69,480 kms</td>\n",
       "      <td>Diesel</td>\n",
       "      <td>Manual</td>\n",
       "      <td>Mileage23.59 kmpl</td>\n",
       "      <td>Seats5</td>\n",
       "    </tr>\n",
       "    <tr>\n",
       "      <th>20022</th>\n",
       "      <td>Maruti Ertiga BSIV VXI</td>\n",
       "      <td>9.25 Lakh*</td>\n",
       "      <td>2019.0</td>\n",
       "      <td>18,000 kms</td>\n",
       "      <td>Petrol</td>\n",
       "      <td>Manual</td>\n",
       "      <td>Mileage17.5 kmpl</td>\n",
       "      <td>Seats7</td>\n",
       "    </tr>\n",
       "    <tr>\n",
       "      <th>20023</th>\n",
       "      <td>Skoda Rapid 1.5 TDI Elegance</td>\n",
       "      <td>4.25 Lakh*</td>\n",
       "      <td>2015.0</td>\n",
       "      <td>67,000 kms</td>\n",
       "      <td>Diesel</td>\n",
       "      <td>Manual</td>\n",
       "      <td>Mileage21.14 kmpl</td>\n",
       "      <td>Seats5</td>\n",
       "    </tr>\n",
       "    <tr>\n",
       "      <th>20024</th>\n",
       "      <td>Mahindra XUV500 W6 2WD</td>\n",
       "      <td>12.25 Lakh*</td>\n",
       "      <td>2016.0</td>\n",
       "      <td>38,00,000 kms</td>\n",
       "      <td>Diesel</td>\n",
       "      <td>Manual</td>\n",
       "      <td>Mileage16.0 kmpl</td>\n",
       "      <td>Seats7</td>\n",
       "    </tr>\n",
       "    <tr>\n",
       "      <th>20025</th>\n",
       "      <td>Honda City i-VTEC CVT VX</td>\n",
       "      <td>12 Lakh*</td>\n",
       "      <td>2019.0</td>\n",
       "      <td>13,000 kms</td>\n",
       "      <td>Petrol</td>\n",
       "      <td>Automatic</td>\n",
       "      <td>Mileage18.0 kmpl</td>\n",
       "      <td>Seats5</td>\n",
       "    </tr>\n",
       "  </tbody>\n",
       "</table>\n",
       "<p>20026 rows × 8 columns</p>\n",
       "</div>"
      ],
      "text/plain": [
       "                                            full_name selling_price    year   \n",
       "0                                     Maruti Alto Std     1.2 Lakh*  2012.0  \\\n",
       "1                              Hyundai Grand i10 Asta     5.5 Lakh*  2016.0   \n",
       "2                                    Hyundai i20 Asta    2.15 Lakh*  2010.0   \n",
       "3                       Maruti Alto K10 2010-2014 VXI    2.26 Lakh*  2012.0   \n",
       "4      Ford Ecosport 2015-2021 1.5 TDCi Titanium BSIV     5.7 Lakh*  2015.0   \n",
       "...                                               ...           ...     ...   \n",
       "20021                   Toyota Platinum Etios 1.4 GXD     6.5 Lakh*  2017.0   \n",
       "20022                          Maruti Ertiga BSIV VXI    9.25 Lakh*  2019.0   \n",
       "20023                    Skoda Rapid 1.5 TDI Elegance    4.25 Lakh*  2015.0   \n",
       "20024                          Mahindra XUV500 W6 2WD   12.25 Lakh*  2016.0   \n",
       "20025                        Honda City i-VTEC CVT VX      12 Lakh*  2019.0   \n",
       "\n",
       "           km_driven fuel_type transmission_type            mileage   seats  \n",
       "0       1,20,000 kms    Petrol            Manual   Mileage19.7 kmpl  Seats5  \n",
       "1         20,000 kms    Petrol            Manual   Mileage18.9 kmpl  Seats5  \n",
       "2         60,000 kms    Petrol            Manual   Mileage17.0 kmpl  Seats5  \n",
       "3         37,000 kms    Petrol            Manual  Mileage20.92 kmpl  Seats5  \n",
       "4         30,000 kms    Diesel            Manual  Mileage22.77 kmpl  Seats5  \n",
       "...              ...       ...               ...                ...     ...  \n",
       "20021     69,480 kms    Diesel            Manual  Mileage23.59 kmpl  Seats5  \n",
       "20022     18,000 kms    Petrol            Manual   Mileage17.5 kmpl  Seats7  \n",
       "20023     67,000 kms    Diesel            Manual  Mileage21.14 kmpl  Seats5  \n",
       "20024  38,00,000 kms    Diesel            Manual   Mileage16.0 kmpl  Seats7  \n",
       "20025     13,000 kms    Petrol         Automatic   Mileage18.0 kmpl  Seats5  \n",
       "\n",
       "[20026 rows x 8 columns]"
      ]
     },
     "execution_count": 7,
     "metadata": {},
     "output_type": "execute_result"
    }
   ],
   "source": [
    "car"
   ]
  },
  {
   "cell_type": "markdown",
   "id": "415641ee",
   "metadata": {},
   "source": [
    "# year"
   ]
  },
  {
   "cell_type": "code",
   "execution_count": 8,
   "id": "89436cdc",
   "metadata": {},
   "outputs": [
    {
     "data": {
      "text/plain": [
       "array([2012., 2016., 2010., 2015., 2013., 2018., 2019., 2017., 2014.,\n",
       "       2011., 2007., 2009., 2004., 2020., 2006., 2008., 2000., 2005.,\n",
       "         nan, 2002., 1999., 2003., 1997., 2001., 1992., 2021., 1998.,\n",
       "       1991., 1996.])"
      ]
     },
     "execution_count": 8,
     "metadata": {},
     "output_type": "execute_result"
    }
   ],
   "source": [
    "car['year'].unique()"
   ]
  },
  {
   "cell_type": "code",
   "execution_count": 9,
   "id": "bef51d1b",
   "metadata": {},
   "outputs": [
    {
     "data": {
      "text/plain": [
       "year\n",
       "2017.0    2653\n",
       "2016.0    2587\n",
       "2015.0    2430\n",
       "2018.0    2163\n",
       "2014.0    1947\n",
       "2013.0    1776\n",
       "2012.0    1554\n",
       "2019.0    1238\n",
       "2011.0    1097\n",
       "2010.0     846\n",
       "2009.0     444\n",
       "2008.0     374\n",
       "2007.0     247\n",
       "2020.0     240\n",
       "2006.0     180\n",
       "2005.0      65\n",
       "2004.0      44\n",
       "2003.0      23\n",
       "2002.0      16\n",
       "2001.0      15\n",
       "2000.0      13\n",
       "1999.0      12\n",
       "2021.0       6\n",
       "1998.0       6\n",
       "1997.0       1\n",
       "1992.0       1\n",
       "1991.0       1\n",
       "1996.0       1\n",
       "Name: count, dtype: int64"
      ]
     },
     "execution_count": 9,
     "metadata": {},
     "output_type": "execute_result"
    }
   ],
   "source": [
    "car['year'].value_counts()"
   ]
  },
  {
   "cell_type": "code",
   "execution_count": 10,
   "id": "c66902d7",
   "metadata": {},
   "outputs": [],
   "source": [
    "car = car[~car['year'].isna()]"
   ]
  },
  {
   "cell_type": "code",
   "execution_count": 11,
   "id": "84024c8e",
   "metadata": {},
   "outputs": [
    {
     "name": "stderr",
     "output_type": "stream",
     "text": [
      "C:\\Users\\DELL\\AppData\\Local\\Temp\\ipykernel_6168\\689499762.py:1: SettingWithCopyWarning: \n",
      "A value is trying to be set on a copy of a slice from a DataFrame.\n",
      "Try using .loc[row_indexer,col_indexer] = value instead\n",
      "\n",
      "See the caveats in the documentation: https://pandas.pydata.org/pandas-docs/stable/user_guide/indexing.html#returning-a-view-versus-a-copy\n",
      "  car['year'] = car['year'].astype(int)\n"
     ]
    }
   ],
   "source": [
    "car['year'] = car['year'].astype(int)"
   ]
  },
  {
   "cell_type": "code",
   "execution_count": 12,
   "id": "88529dd3",
   "metadata": {},
   "outputs": [
    {
     "data": {
      "text/plain": [
       "Text(0, 0.5, 'car year')"
      ]
     },
     "execution_count": 12,
     "metadata": {},
     "output_type": "execute_result"
    },
    {
     "data": {
      "image/png": "[encoded data removed]",
      "text/plain": [
       "<Figure size 640x480 with 1 Axes>"
      ]
     },
     "metadata": {},
     "output_type": "display_data"
    }
   ],
   "source": [
    "plt.boxplot(car['year'])\n",
    "plt.title('Box Plot of year')\n",
    "plt.ylabel('car year')\n"
   ]
  },
  {
   "cell_type": "code",
   "execution_count": 13,
   "id": "083e2e6b",
   "metadata": {},
   "outputs": [],
   "source": [
    "car = car[car['year'] >= 2006]"
   ]
  },
  {
   "cell_type": "code",
   "execution_count": 14,
   "id": "8b25abfb",
   "metadata": {
    "scrolled": true
   },
   "outputs": [
    {
     "data": {
      "text/plain": [
       "array([2012, 2016, 2010, 2015, 2013, 2018, 2019, 2017, 2014, 2011, 2007,\n",
       "       2009, 2020, 2006, 2008, 2021])"
      ]
     },
     "execution_count": 14,
     "metadata": {},
     "output_type": "execute_result"
    }
   ],
   "source": [
    "\n",
    "car['year'].unique()"
   ]
  },
  {
   "cell_type": "markdown",
   "id": "7d48539f",
   "metadata": {},
   "source": [
    "# selling_price"
   ]
  },
  {
   "cell_type": "code",
   "execution_count": 15,
   "id": "31de1de2",
   "metadata": {},
   "outputs": [],
   "source": [
    "car['selling_price'] = car['selling_price'].str.split(' ').str.get(0)"
   ]
  },
  {
   "cell_type": "code",
   "execution_count": 16,
   "id": "e6d60603",
   "metadata": {},
   "outputs": [],
   "source": [
    "car = car[~car['selling_price'].isna()]\n",
    "car['selling_price']=car['selling_price'].dropna()\n"
   ]
  },
  {
   "cell_type": "code",
   "execution_count": 17,
   "id": "46b47bf1",
   "metadata": {},
   "outputs": [],
   "source": [
    "car['selling_price'] = pd.to_numeric(car['selling_price'], errors='coerce')\n",
    "car['selling_price'] = car['selling_price'].astype(float)\n"
   ]
  },
  {
   "cell_type": "code",
   "execution_count": 18,
   "id": "dd77b740",
   "metadata": {},
   "outputs": [
    {
     "data": {
      "text/plain": [
       "Text(0, 0.5, 'car selling_price')"
      ]
     },
     "execution_count": 18,
     "metadata": {},
     "output_type": "execute_result"
    },
    {
     "data": {
      "image/png": "[encoded data removed]",
      "text/plain": [
       "<Figure size 640x480 with 1 Axes>"
      ]
     },
     "metadata": {},
     "output_type": "display_data"
    }
   ],
   "source": [
    "plt.boxplot(car['selling_price'])\n",
    "plt.title('Box Plot of selling_price')\n",
    "plt.ylabel('car selling_price')\n"
   ]
  },
  {
   "cell_type": "code",
   "execution_count": 19,
   "id": "3a3cba02",
   "metadata": {},
   "outputs": [
    {
     "data": {
      "text/plain": [
       "0         1.20\n",
       "1         5.50\n",
       "2         2.15\n",
       "3         2.26\n",
       "4         5.70\n",
       "         ...  \n",
       "20021     6.50\n",
       "20022     9.25\n",
       "20023     4.25\n",
       "20024    12.25\n",
       "20025    12.00\n",
       "Name: selling_price, Length: 19782, dtype: float64"
      ]
     },
     "execution_count": 19,
     "metadata": {},
     "output_type": "execute_result"
    }
   ],
   "source": [
    "car['selling_price']"
   ]
  },
  {
   "cell_type": "code",
   "execution_count": 20,
   "id": "12047621",
   "metadata": {},
   "outputs": [],
   "source": [
    "car = car[car['selling_price'] <= 50]"
   ]
  },
  {
   "cell_type": "code",
   "execution_count": 21,
   "id": "b4f6eb94",
   "metadata": {},
   "outputs": [
    {
     "data": {
      "text/plain": [
       "(19470, 8)"
      ]
     },
     "execution_count": 21,
     "metadata": {},
     "output_type": "execute_result"
    }
   ],
   "source": [
    "car.shape"
   ]
  },
  {
   "cell_type": "markdown",
   "id": "7c9cb9c6",
   "metadata": {},
   "source": [
    "# full_name"
   ]
  },
  {
   "cell_type": "code",
   "execution_count": 22,
   "id": "a15c06c2",
   "metadata": {},
   "outputs": [],
   "source": [
    "car['full_name'] = car['full_name'].str.split(' ').str.slice(0,3).str.join(' ')"
   ]
  },
  {
   "cell_type": "code",
   "execution_count": 23,
   "id": "716ce7d4",
   "metadata": {},
   "outputs": [
    {
     "data": {
      "text/html": [
       "<div>\n",
       "<style scoped>\n",
       "    .dataframe tbody tr th:only-of-type {\n",
       "        vertical-align: middle;\n",
       "    }\n",
       "\n",
       "    .dataframe tbody tr th {\n",
       "        vertical-align: top;\n",
       "    }\n",
       "\n",
       "    .dataframe thead th {\n",
       "        text-align: right;\n",
       "    }\n",
       "</style>\n",
       "<table border=\"1\" class=\"dataframe\">\n",
       "  <thead>\n",
       "    <tr style=\"text-align: right;\">\n",
       "      <th></th>\n",
       "      <th>full_name</th>\n",
       "      <th>selling_price</th>\n",
       "      <th>year</th>\n",
       "      <th>km_driven</th>\n",
       "      <th>fuel_type</th>\n",
       "      <th>transmission_type</th>\n",
       "      <th>mileage</th>\n",
       "      <th>seats</th>\n",
       "    </tr>\n",
       "  </thead>\n",
       "  <tbody>\n",
       "    <tr>\n",
       "      <th>0</th>\n",
       "      <td>Maruti Alto Std</td>\n",
       "      <td>1.20</td>\n",
       "      <td>2012</td>\n",
       "      <td>1,20,000 kms</td>\n",
       "      <td>Petrol</td>\n",
       "      <td>Manual</td>\n",
       "      <td>Mileage19.7 kmpl</td>\n",
       "      <td>Seats5</td>\n",
       "    </tr>\n",
       "    <tr>\n",
       "      <th>1</th>\n",
       "      <td>Hyundai Grand i10</td>\n",
       "      <td>5.50</td>\n",
       "      <td>2016</td>\n",
       "      <td>20,000 kms</td>\n",
       "      <td>Petrol</td>\n",
       "      <td>Manual</td>\n",
       "      <td>Mileage18.9 kmpl</td>\n",
       "      <td>Seats5</td>\n",
       "    </tr>\n",
       "    <tr>\n",
       "      <th>2</th>\n",
       "      <td>Hyundai i20 Asta</td>\n",
       "      <td>2.15</td>\n",
       "      <td>2010</td>\n",
       "      <td>60,000 kms</td>\n",
       "      <td>Petrol</td>\n",
       "      <td>Manual</td>\n",
       "      <td>Mileage17.0 kmpl</td>\n",
       "      <td>Seats5</td>\n",
       "    </tr>\n",
       "    <tr>\n",
       "      <th>3</th>\n",
       "      <td>Maruti Alto K10</td>\n",
       "      <td>2.26</td>\n",
       "      <td>2012</td>\n",
       "      <td>37,000 kms</td>\n",
       "      <td>Petrol</td>\n",
       "      <td>Manual</td>\n",
       "      <td>Mileage20.92 kmpl</td>\n",
       "      <td>Seats5</td>\n",
       "    </tr>\n",
       "    <tr>\n",
       "      <th>4</th>\n",
       "      <td>Ford Ecosport 2015-2021</td>\n",
       "      <td>5.70</td>\n",
       "      <td>2015</td>\n",
       "      <td>30,000 kms</td>\n",
       "      <td>Diesel</td>\n",
       "      <td>Manual</td>\n",
       "      <td>Mileage22.77 kmpl</td>\n",
       "      <td>Seats5</td>\n",
       "    </tr>\n",
       "    <tr>\n",
       "      <th>...</th>\n",
       "      <td>...</td>\n",
       "      <td>...</td>\n",
       "      <td>...</td>\n",
       "      <td>...</td>\n",
       "      <td>...</td>\n",
       "      <td>...</td>\n",
       "      <td>...</td>\n",
       "      <td>...</td>\n",
       "    </tr>\n",
       "    <tr>\n",
       "      <th>20021</th>\n",
       "      <td>Toyota Platinum Etios</td>\n",
       "      <td>6.50</td>\n",
       "      <td>2017</td>\n",
       "      <td>69,480 kms</td>\n",
       "      <td>Diesel</td>\n",
       "      <td>Manual</td>\n",
       "      <td>Mileage23.59 kmpl</td>\n",
       "      <td>Seats5</td>\n",
       "    </tr>\n",
       "    <tr>\n",
       "      <th>20022</th>\n",
       "      <td>Maruti Ertiga BSIV</td>\n",
       "      <td>9.25</td>\n",
       "      <td>2019</td>\n",
       "      <td>18,000 kms</td>\n",
       "      <td>Petrol</td>\n",
       "      <td>Manual</td>\n",
       "      <td>Mileage17.5 kmpl</td>\n",
       "      <td>Seats7</td>\n",
       "    </tr>\n",
       "    <tr>\n",
       "      <th>20023</th>\n",
       "      <td>Skoda Rapid 1.5</td>\n",
       "      <td>4.25</td>\n",
       "      <td>2015</td>\n",
       "      <td>67,000 kms</td>\n",
       "      <td>Diesel</td>\n",
       "      <td>Manual</td>\n",
       "      <td>Mileage21.14 kmpl</td>\n",
       "      <td>Seats5</td>\n",
       "    </tr>\n",
       "    <tr>\n",
       "      <th>20024</th>\n",
       "      <td>Mahindra XUV500 W6</td>\n",
       "      <td>12.25</td>\n",
       "      <td>2016</td>\n",
       "      <td>38,00,000 kms</td>\n",
       "      <td>Diesel</td>\n",
       "      <td>Manual</td>\n",
       "      <td>Mileage16.0 kmpl</td>\n",
       "      <td>Seats7</td>\n",
       "    </tr>\n",
       "    <tr>\n",
       "      <th>20025</th>\n",
       "      <td>Honda City i-VTEC</td>\n",
       "      <td>12.00</td>\n",
       "      <td>2019</td>\n",
       "      <td>13,000 kms</td>\n",
       "      <td>Petrol</td>\n",
       "      <td>Automatic</td>\n",
       "      <td>Mileage18.0 kmpl</td>\n",
       "      <td>Seats5</td>\n",
       "    </tr>\n",
       "  </tbody>\n",
       "</table>\n",
       "<p>19470 rows × 8 columns</p>\n",
       "</div>"
      ],
      "text/plain": [
       "                     full_name  selling_price  year      km_driven fuel_type   \n",
       "0              Maruti Alto Std           1.20  2012   1,20,000 kms    Petrol  \\\n",
       "1            Hyundai Grand i10           5.50  2016     20,000 kms    Petrol   \n",
       "2             Hyundai i20 Asta           2.15  2010     60,000 kms    Petrol   \n",
       "3              Maruti Alto K10           2.26  2012     37,000 kms    Petrol   \n",
       "4      Ford Ecosport 2015-2021           5.70  2015     30,000 kms    Diesel   \n",
       "...                        ...            ...   ...            ...       ...   \n",
       "20021    Toyota Platinum Etios           6.50  2017     69,480 kms    Diesel   \n",
       "20022       Maruti Ertiga BSIV           9.25  2019     18,000 kms    Petrol   \n",
       "20023          Skoda Rapid 1.5           4.25  2015     67,000 kms    Diesel   \n",
       "20024       Mahindra XUV500 W6          12.25  2016  38,00,000 kms    Diesel   \n",
       "20025        Honda City i-VTEC          12.00  2019     13,000 kms    Petrol   \n",
       "\n",
       "      transmission_type            mileage   seats  \n",
       "0                Manual   Mileage19.7 kmpl  Seats5  \n",
       "1                Manual   Mileage18.9 kmpl  Seats5  \n",
       "2                Manual   Mileage17.0 kmpl  Seats5  \n",
       "3                Manual  Mileage20.92 kmpl  Seats5  \n",
       "4                Manual  Mileage22.77 kmpl  Seats5  \n",
       "...                 ...                ...     ...  \n",
       "20021            Manual  Mileage23.59 kmpl  Seats5  \n",
       "20022            Manual   Mileage17.5 kmpl  Seats7  \n",
       "20023            Manual  Mileage21.14 kmpl  Seats5  \n",
       "20024            Manual   Mileage16.0 kmpl  Seats7  \n",
       "20025         Automatic   Mileage18.0 kmpl  Seats5  \n",
       "\n",
       "[19470 rows x 8 columns]"
      ]
     },
     "execution_count": 23,
     "metadata": {},
     "output_type": "execute_result"
    }
   ],
   "source": [
    "car"
   ]
  },
  {
   "cell_type": "markdown",
   "id": "2c5e97b9",
   "metadata": {},
   "source": [
    "# km_driven"
   ]
  },
  {
   "cell_type": "code",
   "execution_count": 24,
   "id": "4efe0638",
   "metadata": {},
   "outputs": [
    {
     "data": {
      "text/plain": [
       "array(['1,20,000 kms', '20,000 kms', '60,000 kms', ..., '10,723 kms',\n",
       "       '69,480 kms', '38,00,000 kms'], dtype=object)"
      ]
     },
     "execution_count": 24,
     "metadata": {},
     "output_type": "execute_result"
    }
   ],
   "source": [
    "car['km_driven'].unique()"
   ]
  },
  {
   "cell_type": "code",
   "execution_count": 25,
   "id": "67b944df",
   "metadata": {},
   "outputs": [],
   "source": [
    "car['km_driven'] = car['km_driven'].str.split(' ').str.get(0).str.replace(',','')"
   ]
  },
  {
   "cell_type": "code",
   "execution_count": 26,
   "id": "ac86e9d0",
   "metadata": {},
   "outputs": [],
   "source": [
    "car['km_driven'] = car['km_driven'].astype(int)"
   ]
  },
  {
   "cell_type": "code",
   "execution_count": 27,
   "id": "88a170f3",
   "metadata": {},
   "outputs": [
    {
     "data": {
      "text/plain": [
       "0         120000\n",
       "1          20000\n",
       "2          60000\n",
       "3          37000\n",
       "4          30000\n",
       "          ...   \n",
       "20021      69480\n",
       "20022      18000\n",
       "20023      67000\n",
       "20024    3800000\n",
       "20025      13000\n",
       "Name: km_driven, Length: 19470, dtype: int32"
      ]
     },
     "execution_count": 27,
     "metadata": {},
     "output_type": "execute_result"
    }
   ],
   "source": [
    "car['km_driven']"
   ]
  },
  {
   "cell_type": "code",
   "execution_count": 28,
   "id": "62d2bd86",
   "metadata": {},
   "outputs": [
    {
     "data": {
      "text/plain": [
       "Text(0, 0.5, 'car selling_price')"
      ]
     },
     "execution_count": 28,
     "metadata": {},
     "output_type": "execute_result"
    },
    {
     "data": {
      "image/png": "[encoded data removed]",
      "text/plain": [
       "<Figure size 640x480 with 1 Axes>"
      ]
     },
     "metadata": {},
     "output_type": "display_data"
    }
   ],
   "source": [
    "plt.boxplot(car['km_driven'])\n",
    "plt.title('Box Plot of selling_price')\n",
    "plt.ylabel('car selling_price')"
   ]
  },
  {
   "cell_type": "code",
   "execution_count": 29,
   "id": "4eff89bd",
   "metadata": {},
   "outputs": [],
   "source": [
    "car = car[car['selling_price'] <= 150000]"
   ]
  },
  {
   "cell_type": "code",
   "execution_count": 30,
   "id": "b958ec7e",
   "metadata": {},
   "outputs": [
    {
     "data": {
      "text/plain": [
       "km_driven\n",
       "50000      723\n",
       "70000      656\n",
       "60000      624\n",
       "40000      599\n",
       "80000      472\n",
       "          ... \n",
       "2530         1\n",
       "56913        1\n",
       "54278        1\n",
       "94603        1\n",
       "3800000      1\n",
       "Name: count, Length: 4437, dtype: int64"
      ]
     },
     "execution_count": 30,
     "metadata": {},
     "output_type": "execute_result"
    }
   ],
   "source": [
    "car['km_driven'].value_counts()"
   ]
  },
  {
   "cell_type": "markdown",
   "id": "4583602e",
   "metadata": {},
   "source": [
    "# fuel_type"
   ]
  },
  {
   "cell_type": "code",
   "execution_count": 31,
   "id": "4db4bb54",
   "metadata": {},
   "outputs": [
    {
     "data": {
      "text/plain": [
       "array(['Petrol', 'Diesel', 'CNG', 'LPG', 'Electric'], dtype=object)"
      ]
     },
     "execution_count": 31,
     "metadata": {},
     "output_type": "execute_result"
    }
   ],
   "source": [
    "car['fuel_type'].unique()"
   ]
  },
  {
   "cell_type": "code",
   "execution_count": 32,
   "id": "0a4bc649",
   "metadata": {},
   "outputs": [
    {
     "data": {
      "text/plain": [
       "fuel_type\n",
       "Diesel      9660\n",
       "Petrol      9423\n",
       "CNG          314\n",
       "LPG           59\n",
       "Electric      14\n",
       "Name: count, dtype: int64"
      ]
     },
     "execution_count": 32,
     "metadata": {},
     "output_type": "execute_result"
    }
   ],
   "source": [
    "car['fuel_type'].value_counts()"
   ]
  },
  {
   "cell_type": "markdown",
   "id": "4641c99d",
   "metadata": {},
   "source": [
    "# transmission_type\n"
   ]
  },
  {
   "cell_type": "code",
   "execution_count": 33,
   "id": "104a6925",
   "metadata": {},
   "outputs": [
    {
     "data": {
      "text/plain": [
       "array(['Manual', 'Automatic'], dtype=object)"
      ]
     },
     "execution_count": 33,
     "metadata": {},
     "output_type": "execute_result"
    }
   ],
   "source": [
    "car['transmission_type'].unique()"
   ]
  },
  {
   "cell_type": "code",
   "execution_count": 34,
   "id": "01abe2a5",
   "metadata": {},
   "outputs": [
    {
     "data": {
      "text/plain": [
       "transmission_type\n",
       "Manual       15669\n",
       "Automatic     3801\n",
       "Name: count, dtype: int64"
      ]
     },
     "execution_count": 34,
     "metadata": {},
     "output_type": "execute_result"
    }
   ],
   "source": [
    "car['transmission_type'].value_counts()"
   ]
  },
  {
   "cell_type": "markdown",
   "id": "e657ccd2",
   "metadata": {},
   "source": [
    "# mileage"
   ]
  },
  {
   "cell_type": "code",
   "execution_count": 35,
   "id": "15edc880",
   "metadata": {
    "scrolled": false
   },
   "outputs": [],
   "source": [
    "#  car['mileage'].unique()"
   ]
  },
  {
   "cell_type": "code",
   "execution_count": 36,
   "id": "013be747",
   "metadata": {},
   "outputs": [],
   "source": [
    "car['mileage'] = car['mileage'].str.split(' ').str.get(0)"
   ]
  },
  {
   "cell_type": "code",
   "execution_count": 37,
   "id": "097de554",
   "metadata": {},
   "outputs": [],
   "source": [
    "car['mileage'] = car['mileage'].str.split('e').str.get(-1)"
   ]
  },
  {
   "cell_type": "code",
   "execution_count": 38,
   "id": "414c05e1",
   "metadata": {},
   "outputs": [],
   "source": [
    "car['mileage'] = car['mileage'].astype(float)"
   ]
  },
  {
   "cell_type": "code",
   "execution_count": 39,
   "id": "597ddb84",
   "metadata": {},
   "outputs": [
    {
     "data": {
      "text/plain": [
       "Text(0, 0.5, 'car mileage')"
      ]
     },
     "execution_count": 39,
     "metadata": {},
     "output_type": "execute_result"
    },
    {
     "data": {
      "image/png": "[encoded data removed]",
      "text/plain": [
       "<Figure size 640x480 with 1 Axes>"
      ]
     },
     "metadata": {},
     "output_type": "display_data"
    }
   ],
   "source": [
    "plt.boxplot(car['mileage'])\n",
    "plt.title('Box Plot of mileage')\n",
    "plt.ylabel('car mileage')"
   ]
  },
  {
   "cell_type": "code",
   "execution_count": 40,
   "id": "525a6c6c",
   "metadata": {},
   "outputs": [],
   "source": [
    "car = car[car['mileage'] < 35]"
   ]
  },
  {
   "cell_type": "code",
   "execution_count": 41,
   "id": "5c656157",
   "metadata": {},
   "outputs": [],
   "source": [
    "car = car[car['mileage'] > 15]"
   ]
  },
  {
   "cell_type": "code",
   "execution_count": null,
   "id": "ca6f4510",
   "metadata": {},
   "outputs": [],
   "source": []
  },
  {
   "cell_type": "markdown",
   "id": "a32f7295",
   "metadata": {},
   "source": [
    "# Seats"
   ]
  },
  {
   "cell_type": "code",
   "execution_count": 42,
   "id": "5ffd2de8",
   "metadata": {},
   "outputs": [],
   "source": [
    "car['seats'] = car['seats'].str.split('s').str.get(-1)"
   ]
  },
  {
   "cell_type": "code",
   "execution_count": 43,
   "id": "8e722849",
   "metadata": {},
   "outputs": [],
   "source": [
    "car = car[car['seats']!='N/A']\n"
   ]
  },
  {
   "cell_type": "code",
   "execution_count": 44,
   "id": "550baf33",
   "metadata": {},
   "outputs": [
    {
     "data": {
      "text/plain": [
       "array(['5', '7', '4', '8', '6', nan, '9', '2'], dtype=object)"
      ]
     },
     "execution_count": 44,
     "metadata": {},
     "output_type": "execute_result"
    }
   ],
   "source": [
    "car['seats'].unique()"
   ]
  },
  {
   "cell_type": "code",
   "execution_count": 45,
   "id": "130718cc",
   "metadata": {},
   "outputs": [
    {
     "data": {
      "text/plain": [
       "seats\n",
       "5    14951\n",
       "7     1387\n",
       "6      128\n",
       "4       97\n",
       "8       89\n",
       "9       48\n",
       "2        1\n",
       "Name: count, dtype: int64"
      ]
     },
     "execution_count": 45,
     "metadata": {},
     "output_type": "execute_result"
    }
   ],
   "source": [
    "car['seats'].value_counts()"
   ]
  },
  {
   "cell_type": "code",
   "execution_count": 46,
   "id": "c782891f",
   "metadata": {},
   "outputs": [
    {
     "data": {
      "text/plain": [
       "(16794, 8)"
      ]
     },
     "execution_count": 46,
     "metadata": {},
     "output_type": "execute_result"
    }
   ],
   "source": [
    "car.shape"
   ]
  },
  {
   "cell_type": "code",
   "execution_count": 47,
   "id": "6b2fe695",
   "metadata": {},
   "outputs": [],
   "source": [
    "car = car[~car['seats'].isna()]"
   ]
  },
  {
   "cell_type": "code",
   "execution_count": 48,
   "id": "d3208a0e",
   "metadata": {},
   "outputs": [],
   "source": [
    "car['seats'] = car['seats'].astype(int)"
   ]
  },
  {
   "cell_type": "code",
   "execution_count": 49,
   "id": "df9d9237",
   "metadata": {},
   "outputs": [],
   "source": [
    "car = car[car['mileage'] > 2]"
   ]
  },
  {
   "cell_type": "markdown",
   "id": "80aae072",
   "metadata": {},
   "source": [
    "# converting into numeric"
   ]
  },
  {
   "cell_type": "code",
   "execution_count": 50,
   "id": "acfafd3f",
   "metadata": {},
   "outputs": [],
   "source": [
    "from sklearn.preprocessing import LabelEncoder\n",
    "car = pd.DataFrame(car)\n",
    "le = LabelEncoder()\n",
    "\n",
    "car['full_name'] = pd.factorize(car['full_name'])[0]\n",
    "car['full_name'] = le.fit_transform(car['full_name'])"
   ]
  },
  {
   "cell_type": "code",
   "execution_count": 51,
   "id": "af5d70b8",
   "metadata": {},
   "outputs": [],
   "source": [
    "car['fuel_type'] = pd.factorize(car['fuel_type'])[0]\n",
    "car['fuel_type'] = le.fit_transform(car['fuel_type'])\n",
    "# car['fuel_type'] = car['fuel_type'].astype(int)\n"
   ]
  },
  {
   "cell_type": "code",
   "execution_count": 52,
   "id": "cd60a9a5",
   "metadata": {},
   "outputs": [],
   "source": [
    "car['transmission_type'] = pd.factorize(car['transmission_type'])[0]\n",
    "car['transmission_type'] = le.fit_transform(car['transmission_type'])"
   ]
  },
  {
   "cell_type": "markdown",
   "id": "428a97eb",
   "metadata": {},
   "source": [
    "# Train test split"
   ]
  },
  {
   "cell_type": "code",
   "execution_count": 53,
   "id": "ceac73f8",
   "metadata": {},
   "outputs": [],
   "source": [
    "from sklearn.model_selection import train_test_split\n"
   ]
  },
  {
   "cell_type": "code",
   "execution_count": 54,
   "id": "d11631da",
   "metadata": {},
   "outputs": [],
   "source": [
    "X = car.drop(columns = \"selling_price\")\n",
    "y = car['selling_price']\n"
   ]
  },
  {
   "cell_type": "code",
   "execution_count": 55,
   "id": "5b23c5b3",
   "metadata": {},
   "outputs": [],
   "source": [
    "X_train,X_test,y_train,y_test = train_test_split(X,y,test_size = 0.2,random_state = 42)"
   ]
  },
  {
   "cell_type": "code",
   "execution_count": 56,
   "id": "7eec006d",
   "metadata": {},
   "outputs": [
    {
     "data": {
      "text/plain": [
       "(13360, 7)"
      ]
     },
     "execution_count": 56,
     "metadata": {},
     "output_type": "execute_result"
    }
   ],
   "source": [
    "X_train.shape"
   ]
  },
  {
   "cell_type": "code",
   "execution_count": 57,
   "id": "3f31bd88",
   "metadata": {},
   "outputs": [
    {
     "data": {
      "text/plain": [
       "(13360,)"
      ]
     },
     "execution_count": 57,
     "metadata": {},
     "output_type": "execute_result"
    }
   ],
   "source": [
    "y_train.shape"
   ]
  },
  {
   "cell_type": "code",
   "execution_count": 58,
   "id": "53faf9c5",
   "metadata": {},
   "outputs": [
    {
     "data": {
      "text/plain": [
       "(3341, 7)"
      ]
     },
     "execution_count": 58,
     "metadata": {},
     "output_type": "execute_result"
    }
   ],
   "source": [
    "X_test.shape"
   ]
  },
  {
   "cell_type": "code",
   "execution_count": 59,
   "id": "02b445fc",
   "metadata": {},
   "outputs": [
    {
     "data": {
      "text/plain": [
       "(3341,)"
      ]
     },
     "execution_count": 59,
     "metadata": {},
     "output_type": "execute_result"
    }
   ],
   "source": [
    "y_test.shape"
   ]
  },
  {
   "cell_type": "markdown",
   "id": "86033826",
   "metadata": {},
   "source": [
    "# KNN"
   ]
  },
  {
   "cell_type": "code",
   "execution_count": 60,
   "id": "6f5a4792",
   "metadata": {},
   "outputs": [],
   "source": [
    "# car.info()"
   ]
  },
  {
   "cell_type": "code",
   "execution_count": 61,
   "id": "f210c053",
   "metadata": {},
   "outputs": [
    {
     "data": {
      "text/plain": [
       "array([ 1.2 ,  5.5 ,  2.15,  2.26,  5.7 ,  3.5 ,  3.15,  4.1 , 10.5 ,\n",
       "        5.75,  3.05, 11.5 ,  5.11,  4.25,  7.5 ,  6.5 ,  6.27, 14.25,\n",
       "        6.  ,  2.6 ,  2.3 , 12.25,  3.9 ,  1.45,  7.  ,  3.4 ,  4.65,\n",
       "        1.25,  3.8 ,  3.  ,  5.  ,  8.5 ,  5.98,  9.  ,  5.9 ,  1.08,\n",
       "        3.25,  6.25,  4.45,  5.3 ,  2.65,  5.2 ,  5.6 ,  2.  ,  6.55,\n",
       "        2.2 ,  9.9 ,  5.51, 16.5 ,  5.45,  5.25,  4.  ,  5.4 ,  2.4 ,\n",
       "        7.25,  4.8 ,  3.75,  2.25,  4.5 , 10.8 ,  2.7 ,  1.65,  1.3 ,\n",
       "        3.7 ,  3.65,  2.8 , 12.5 ,  4.75,  6.85,  3.3 ,  6.4 ,  9.49,\n",
       "        6.6 ,  4.35,  3.85,  1.55,  4.15,  2.51,  3.1 , 11.25, 26.  ,\n",
       "       11.  ,  5.59,  9.25,  5.85,  4.11,  4.55,  7.1 ,  7.7 ,  3.2 ,\n",
       "        7.2 ,  1.8 , 20.9 ,  2.5 , 12.75,  4.95,  8.  ,  3.35, 46.75,\n",
       "       12.9 ,  3.95, 13.  ,  3.6 ,  5.05,  5.8 , 14.75,  5.31,  8.9 ,\n",
       "        1.85,  4.4 ,  6.3 ,  2.75,  4.2 ,  4.66, 13.25,  2.9 ,  2.72,\n",
       "        9.51, 10.6 ,  2.35,  1.1 , 18.51,  8.7 ,  2.95,  4.7 ,  9.2 ,\n",
       "        6.35,  9.6 ,  2.49, 14.  ,  6.1 ,  6.99,  4.78,  4.91,  1.6 ,\n",
       "        9.85,  9.5 ,  7.4 ,  8.1 ,  1.73,  2.85,  6.8 , 10.25,  1.94,\n",
       "        6.86,  7.3 ,  7.9 ,  6.2 ,  5.1 ,  8.45, 17.  ,  2.99,  3.78,\n",
       "        5.24,  1.69,  5.65, 10.51,  1.9 ,  1.7 ,  1.4 ,  3.49,  7.55,\n",
       "       40.  ,  2.45, 13.5 , 12.65,  6.75, 14.5 ,  6.43, 10.  ,  6.11,\n",
       "        4.69,  2.1 , 21.5 , 20.5 ,  3.81,  6.7 ,  3.04,  4.9 ,  8.64,\n",
       "       28.5 , 34.9 , 16.99,  9.55,  8.25, 14.76,  4.6 , 38.5 ,  5.55,\n",
       "        2.71,  3.45,  3.67,  5.35,  8.05, 14.88, 28.  , 16.75, 19.25,\n",
       "       12.  ,  3.56,  3.22,  1.21,  6.9 ,  9.35, 10.3 ,  2.77, 11.45,\n",
       "        7.31,  1.  ,  7.65,  6.21, 11.3 ,  4.99,  4.85,  7.45, 36.5 ,\n",
       "        6.95,  1.5 ,  7.75,  9.95,  9.06,  7.85, 14.9 , 30.11,  6.15,\n",
       "       21.  ,  5.27,  3.96,  3.84,  7.15, 18.  , 24.5 ,  1.68,  1.05,\n",
       "       31.  ,  1.35,  4.39, 44.7 ,  8.85,  8.75, 30.  ,  2.11, 16.  ,\n",
       "        8.8 , 20.11,  3.06,  4.3 ,  5.49,  7.95,  8.2 , 41.  ,  5.92,\n",
       "        2.05,  1.24, 23.  ,  5.68,  1.75,  9.14, 10.15, 26.9 , 15.5 ,\n",
       "       12.7 , 10.75,  2.89,  2.55, 15.  ,  8.34, 27.  ,  3.41, 37.5 ,\n",
       "        3.89,  3.57, 11.4 , 22.  ,  8.84, 47.5 ,  2.62,  5.91,  4.17,\n",
       "        4.05, 11.8 ,  9.7 ,  3.38,  6.81, 18.5 ,  5.01,  5.26,  3.24,\n",
       "        7.8 ,  2.24,  1.95,  6.24,  2.44, 12.41, 13.21,  4.51,  6.96,\n",
       "       46.  , 19.5 ,  2.48,  1.99,  3.68,  6.65,  6.51,  2.19,  5.84,\n",
       "        9.99, 10.65,  1.98, 23.5 ,  4.01,  8.57,  4.04,  9.4 ,  3.99,\n",
       "       39.99, 19.95, 10.11, 10.95,  9.75,  7.35,  4.26, 17.5 ,  6.69,\n",
       "       12.4 , 28.9 ,  4.49,  8.65, 11.75, 44.  ,  2.91, 11.51,  9.43,\n",
       "       18.9 ,  7.99,  8.3 ,  8.29,  8.15,  3.55,  6.45,  8.38, 17.9 ,\n",
       "       22.5 ,  5.15, 11.85,  7.41, 25.  ,  3.48, 26.5 , 16.7 ,  5.95,\n",
       "        1.34, 24.  ,  8.51,  6.98, 11.95,  5.61,  9.8 ,  4.68,  3.69,\n",
       "        7.6 ,  3.26,  8.35, 13.75,  8.95, 19.75, 20.45,  9.1 , 13.35,\n",
       "       20.  ,  4.41,  2.64, 11.9 ,  2.14,  8.74,  6.76, 18.95,  8.55,\n",
       "        8.11, 38.99,  5.89,  7.53,  3.19, 13.65,  9.79, 10.2 ,  6.49,\n",
       "        5.96,  5.41, 12.45,  8.4 ,  1.51,  2.69, 10.59, 15.49,  4.48,\n",
       "        3.11,  3.93,  4.38, 10.55, 25.45,  6.29,  7.71,  5.76, 36.75,\n",
       "       10.35, 13.85, 27.99,  6.77,  6.91,  7.76,  6.62,  8.49,  3.91,\n",
       "       11.2 ,  7.51,  2.76, 38.  , 16.85,  2.96,  1.11, 11.6 ,  5.29,\n",
       "       13.6 , 16.45, 25.9 ,  4.21,  3.31,  3.72,  4.98, 18.25,  7.01,\n",
       "        3.47,  2.88,  6.18, 13.51,  5.79,  5.21,  3.39, 11.35,  9.45,\n",
       "       15.12,  7.89, 21.11, 22.25,  5.99,  3.51,  4.32, 23.95,  4.16,\n",
       "        8.31,  3.29, 33.5 ,  2.38, 27.5 , 23.75,  5.82, 17.99, 13.45,\n",
       "       33.  ,  3.71, 11.91, 42.  ,  2.94,  4.86,  5.28, 11.99, 34.5 ,\n",
       "       26.75, 25.5 , 13.9 ,  1.66,  9.31,  9.74,  6.53,  5.81, 45.9 ,\n",
       "        2.41, 12.8 ,  4.59,  1.84,  7.07,  2.82,  4.81, 32.  ,  8.21,\n",
       "        6.79,  4.22,  7.54,  5.78,  3.14,  3.23, 13.4 ,  8.19,  5.71,\n",
       "       28.45, 12.35,  6.59,  7.05,  3.54,  5.19, 10.7 , 18.75, 16.95,\n",
       "        7.11, 45.  , 43.5 , 24.45,  1.13,  4.79,  2.28,  1.49, 25.75,\n",
       "        1.92,  2.04,  8.16,  3.18, 13.7 ,  4.18,  2.21,  3.76,  4.34,\n",
       "        2.81, 43.  , 29.75, 18.55, 19.  , 11.11,  2.92,  2.18,  4.76,\n",
       "       36.  ,  9.11,  1.48, 17.25,  8.68,  2.58,  7.28, 13.55,  5.87,\n",
       "        6.28,  4.28, 39.45, 39.  , 11.1 , 34.95,  7.39,  3.94,  3.21,\n",
       "       46.5 ,  2.98,  5.04,  6.88,  4.14, 34.  , 29.5 ,  8.41,  8.99,\n",
       "       15.98,  9.64,  7.49, 13.95,  2.74,  3.46,  6.78, 18.1 ,  2.33,\n",
       "       12.2 , 15.95,  8.22,  8.6 ,  5.39,  1.15, 16.35,  8.14,  5.83,\n",
       "        7.97,  4.44,  7.91, 22.75,  9.58, 12.49,  7.68,  1.64,  9.39,\n",
       "       35.  ,  7.47,  6.57,  3.27, 13.8 ,  3.09,  1.61, 24.01,  4.29,\n",
       "        5.52,  2.54, 11.7 ,  3.98,  8.89, 13.1 , 30.5 ,  5.14,  2.13,\n",
       "        6.41,  1.06,  7.21,  4.74,  1.97, 15.75,  2.22,  3.53,  2.73,\n",
       "       10.4 ,  9.21, 13.2 , 39.95,  4.36,  4.31,  2.52,  1.53,  6.87,\n",
       "        2.29,  4.63,  1.42, 15.25,  7.93,  4.03, 12.95,  7.87, 11.56,\n",
       "       14.85,  4.61,  3.12,  8.32, 10.42,  1.23, 13.99,  1.78,  5.12,\n",
       "        9.98, 29.9 , 10.9 ,  4.89,  6.42, 17.75, 29.  ,  3.87,  3.34,\n",
       "        3.33,  9.57,  7.86, 10.45,  8.91,  5.67, 14.65,  2.84,  6.23,\n",
       "        8.09, 17.6 ,  6.05,  9.96,  4.27,  6.39,  6.32,  6.48,  1.57,\n",
       "       14.72, 10.64,  6.72,  3.28,  5.36,  1.17,  5.32,  9.3 ,  6.34,\n",
       "       24.8 ,  3.82,  7.23,  2.46, 15.8 ,  3.73,  2.08,  5.57,  4.37,\n",
       "        5.62,  5.48,  4.87,  3.44, 12.28,  5.08,  3.77,  1.31,  9.65,\n",
       "        7.83,  5.56, 10.21,  3.43,  3.36,  7.59, 14.95,  5.46,  6.38,\n",
       "        6.08, 14.6 ,  6.66, 49.  ,  2.86, 23.25,  1.74, 35.5 ,  7.18,\n",
       "        3.08,  7.63,  4.46, 49.9 ,  3.42,  5.44,  6.84, 15.2 ,  5.69,\n",
       "        3.79, 36.99,  2.34,  1.19,  4.19, 28.75,  2.68,  2.39, 24.99,\n",
       "        4.12,  8.79,  4.73,  7.57, 20.25,  3.63, 32.5 ,  2.37, 16.05,\n",
       "        4.67, 50.  ,  2.59,  9.24, 26.8 ,  7.09,  1.38, 39.15,  1.29,\n",
       "        8.12, 10.1 ,  9.82,  1.02, 10.85,  1.79,  1.83,  3.59, 13.3 ,\n",
       "       19.99,  9.05,  1.62,  1.27,  9.52,  4.58,  1.39,  3.16,  9.15,\n",
       "       41.5 ,  6.36, 31.5 , 14.49,  9.61,  4.09,  9.88, 11.71,  2.23,\n",
       "       35.8 ,  1.36, 17.8 , 15.9 , 47.  ,  8.88, 11.49,  2.06,  1.91,\n",
       "       16.1 , 15.6 ,  1.56, 21.75,  2.01,  1.04, 10.99, 11.55,  5.37,\n",
       "        3.88, 12.07,  3.01, 16.49,  2.78, 24.75, 49.5 ,  1.89,  2.31,\n",
       "        5.54, 37.  ,  3.52, 13.49,  4.52, 39.9 ,  2.12, 38.9 ,  6.26,\n",
       "       28.99, 14.3 ,  7.81, 16.25,  6.03, 17.95, 25.25, 14.99, 27.9 ,\n",
       "       12.1 ,  6.37, 11.93,  9.93, 36.8 ,  8.33,  2.16, 14.24, 14.8 ,\n",
       "        8.48, 12.85,  2.09, 12.51, 15.45, 19.9 , 49.6 , 20.85,  2.61,\n",
       "       18.85,  7.03, 48.5 ,  2.47, 10.78, 44.5 , 39.8 ,  8.62, 19.6 ,\n",
       "        3.92, 48.75,  9.38,  4.24, 23.99, 13.15,  1.28, 35.6 ,  6.16,\n",
       "        3.86,  4.96,  5.72,  4.47,  1.93, 20.8 ,  6.01, 39.5 , 15.4 ,\n",
       "       15.88, 42.7 ,  2.83,  6.31,  1.72,  3.61,  6.54, 12.6 ,  4.53,\n",
       "       15.7 ,  5.74,  1.63, 44.85,  2.36,  5.38, 10.39, 10.31, 17.11,\n",
       "        9.17, 18.4 ,  1.33, 11.65,  5.58, 16.9 ,  3.13, 20.75, 31.75,\n",
       "        6.64, 18.99,  2.79,  8.81, 45.99, 39.85, 10.08,  2.17,  8.44,\n",
       "        7.34,  3.37, 12.99,  7.13, 42.75, 15.85, 12.3 , 12.23, 11.89,\n",
       "        3.74, 10.05, 17.51,  4.92, 31.25,  7.02, 37.75,  4.97,  9.42,\n",
       "       25.85, 21.21, 21.95, 16.67,  8.39, 16.2 , 16.6 ,  2.66, 31.9 ,\n",
       "       10.79, 41.75, 14.21, 11.15,  5.07,  4.72,  5.47, 27.75,  9.46,\n",
       "       20.55,  7.72, 17.4 ,  3.32, 38.75,  4.94, 45.5 ,  3.97, 29.25,\n",
       "        7.33, 19.7 , 11.98, 19.51,  4.62, 21.45, 21.9 , 12.69, 17.45,\n",
       "       29.99,  9.72,  4.64, 18.65,  8.61, 15.99,  6.19,  6.71, 18.8 ,\n",
       "        5.17,  5.02,  5.09,  5.43, 19.49,  1.58, 44.95,  6.67,  7.36,\n",
       "       11.38, 33.75,  7.29, 29.95, 24.25,  6.73,  3.64, 16.8 , 39.75,\n",
       "        4.56])"
      ]
     },
     "execution_count": 61,
     "metadata": {},
     "output_type": "execute_result"
    }
   ],
   "source": [
    "car['selling_price'].unique()"
   ]
  },
  {
   "cell_type": "code",
   "execution_count": 62,
   "id": "9dcadb9e",
   "metadata": {},
   "outputs": [],
   "source": [
    "car['selling_price']=car['selling_price'].astype(float)"
   ]
  },
  {
   "cell_type": "code",
   "execution_count": 63,
   "id": "5e36e9d8",
   "metadata": {},
   "outputs": [],
   "source": [
    "import numpy as np\n",
    "from sklearn.preprocessing import StandardScaler\n"
   ]
  },
  {
   "cell_type": "code",
   "execution_count": 64,
   "id": "44385c1e",
   "metadata": {},
   "outputs": [
    {
     "data": {
      "text/plain": [
       "StandardScaler()"
      ]
     },
     "execution_count": 64,
     "metadata": {},
     "output_type": "execute_result"
    }
   ],
   "source": [
    "scaler = StandardScaler()\n",
    "scaler.fit(car)\n",
    "\n"
   ]
  },
  {
   "cell_type": "code",
   "execution_count": 65,
   "id": "07834f62",
   "metadata": {},
   "outputs": [],
   "source": [
    "car_std = scaler.transform(car)\n"
   ]
  },
  {
   "cell_type": "code",
   "execution_count": 66,
   "id": "18c20b84",
   "metadata": {},
   "outputs": [],
   "source": [
    "car1 = pd.DataFrame(car_std, columns=car.columns)\n"
   ]
  },
  {
   "cell_type": "code",
   "execution_count": 67,
   "id": "e371300f",
   "metadata": {},
   "outputs": [],
   "source": [
    "X = car1.drop(\"selling_price\",axis = 1)\n",
    "y = car1[\"selling_price\"]"
   ]
  },
  {
   "cell_type": "code",
   "execution_count": 68,
   "id": "3203f562",
   "metadata": {},
   "outputs": [],
   "source": [
    "from sklearn.model_selection import train_test_split"
   ]
  },
  {
   "cell_type": "code",
   "execution_count": 69,
   "id": "a284e7b4",
   "metadata": {},
   "outputs": [],
   "source": [
    "X_train,X_test,y_train,y_test = train_test_split(X,y ,test_size = 0.2 , random_state =None)"
   ]
  },
  {
   "cell_type": "code",
   "execution_count": 70,
   "id": "15212258",
   "metadata": {},
   "outputs": [],
   "source": [
    "from sklearn.neighbors import KNeighborsRegressor"
   ]
  },
  {
   "cell_type": "code",
   "execution_count": 71,
   "id": "a316d21f",
   "metadata": {},
   "outputs": [],
   "source": [
    "reg = KNeighborsRegressor(n_neighbors = 3)\n",
    "reg.fit(X_train,y_train)\n",
    "y_pred = reg.predict(X_test)"
   ]
  },
  {
   "cell_type": "code",
   "execution_count": 72,
   "id": "7271f10c",
   "metadata": {},
   "outputs": [
    {
     "name": "stdout",
     "output_type": "stream",
     "text": [
      "Traning accuracy\n"
     ]
    },
    {
     "data": {
      "text/plain": [
       "0.9151047452502372"
      ]
     },
     "execution_count": 72,
     "metadata": {},
     "output_type": "execute_result"
    }
   ],
   "source": [
    "print('Traning accuracy')\n",
    "reg.score(X_train,y_train)"
   ]
  },
  {
   "cell_type": "code",
   "execution_count": 73,
   "id": "59712b20",
   "metadata": {},
   "outputs": [
    {
     "name": "stdout",
     "output_type": "stream",
     "text": [
      "test accuracy\n"
     ]
    },
    {
     "data": {
      "text/plain": [
       "0.8244282497339523"
      ]
     },
     "execution_count": 73,
     "metadata": {},
     "output_type": "execute_result"
    }
   ],
   "source": [
    "print('test accuracy')\n",
    "reg.score(X_test,y_test)\n"
   ]
  },
  {
   "cell_type": "markdown",
   "id": "99a30488",
   "metadata": {},
   "source": [
    "# Linear Regression\n"
   ]
  },
  {
   "cell_type": "code",
   "execution_count": 74,
   "id": "a2d6d3ca",
   "metadata": {},
   "outputs": [
    {
     "name": "stdout",
     "output_type": "stream",
     "text": [
      "Train accuracy\n"
     ]
    },
    {
     "data": {
      "text/plain": [
       "0.4871455131667184"
      ]
     },
     "execution_count": 74,
     "metadata": {},
     "output_type": "execute_result"
    }
   ],
   "source": [
    "from sklearn.linear_model import LinearRegression\n",
    "lr = LinearRegression()\n",
    "lr.fit(X_train,y_train)\n",
    "print('Train accuracy')\n",
    "lr.score(X_train,y_train)\n"
   ]
  },
  {
   "cell_type": "code",
   "execution_count": 75,
   "id": "6695d3a1",
   "metadata": {},
   "outputs": [
    {
     "name": "stdout",
     "output_type": "stream",
     "text": [
      "test accuracy\n"
     ]
    },
    {
     "data": {
      "text/plain": [
       "0.47643986267080696"
      ]
     },
     "execution_count": 75,
     "metadata": {},
     "output_type": "execute_result"
    }
   ],
   "source": [
    "print(\"test accuracy\")\n",
    "lr.score(X_test,y_test)"
   ]
  },
  {
   "cell_type": "markdown",
   "id": "f81a1430",
   "metadata": {},
   "source": [
    "# Random forest"
   ]
  },
  {
   "cell_type": "code",
   "execution_count": 76,
   "id": "f88fb02e",
   "metadata": {
    "scrolled": true
   },
   "outputs": [
    {
     "name": "stdout",
     "output_type": "stream",
     "text": [
      "Mean Squared Error: 0.13516590571679155\n",
      "R2 Score: 0.8650279588029106\n"
     ]
    }
   ],
   "source": [
    "\n",
    "from sklearn.ensemble import RandomForestRegressor\n",
    "from sklearn.metrics import mean_squared_error, r2_score\n",
    "\n",
    "\n",
    "rf = RandomForestRegressor(n_estimators=100, max_depth=10, random_state=42)\n",
    "rf.fit(X_train, y_train)\n",
    "y_pred = rf.predict(X_test)\n",
    "mse = mean_squared_error(y_test, y_pred)\n",
    "r2 = r2_score(y_test, y_pred)\n",
    "print(\"Mean Squared Error:\", mse)\n",
    "print(\"R2 Score:\", r2)\n"
   ]
  },
  {
   "cell_type": "code",
   "execution_count": 77,
   "id": "95716741",
   "metadata": {},
   "outputs": [
    {
     "data": {
      "text/plain": [
       "0.9244969598646748"
      ]
     },
     "execution_count": 77,
     "metadata": {},
     "output_type": "execute_result"
    }
   ],
   "source": [
    "rf.score(X_train,y_train)"
   ]
  },
  {
   "cell_type": "code",
   "execution_count": 78,
   "id": "23046dd6",
   "metadata": {},
   "outputs": [
    {
     "data": {
      "text/plain": [
       "0.8650279588029106"
      ]
     },
     "execution_count": 78,
     "metadata": {},
     "output_type": "execute_result"
    }
   ],
   "source": [
    "rf.score(X_test,y_test)"
   ]
  },
  {
   "cell_type": "code",
   "execution_count": 79,
   "id": "3fed0d3f",
   "metadata": {},
   "outputs": [
    {
     "data": {
      "image/png": "[encoded data removed]",
      "text/plain": [
       "<Figure size 640x480 with 1 Axes>"
      ]
     },
     "metadata": {},
     "output_type": "display_data"
    }
   ],
   "source": [
    "import matplotlib.pyplot as plt\n",
    "\n",
    "# calculate training and testing accuracy for each model\n",
    "lr_train_acc = lr.score(X_train, y_train)\n",
    "lr_test_acc = lr.score(X_test, y_test)\n",
    "knn_train_acc = reg.score(X_train, y_train)\n",
    "knn_test_acc = reg.score(X_test, y_test)\n",
    "rf_train_acc = rf.score(X_train, y_train)\n",
    "rf_test_acc = rf.score(X_test, y_test)\n",
    "\n",
    "# create bar chart\n",
    "labels = ['Linear Regression', 'KNN', 'Random Forest']\n",
    "train_acc = [lr_train_acc, knn_train_acc, rf_train_acc]\n",
    "test_acc = [lr_test_acc, knn_test_acc, rf_test_acc]\n",
    "x_pos = [i for i, _ in enumerate(labels)]\n",
    "\n",
    "plt.bar(x_pos, train_acc, color='blue', width=0.4, label='Training Accuracy')\n",
    "plt.bar([i+0.4 for i in x_pos], test_acc, color='orange', width=0.4, label='Testing Accuracy')\n",
    "plt.xticks(x_pos, labels)\n",
    "plt.xlabel(\"Models\")\n",
    "plt.ylabel(\"Accuracy\")\n",
    "plt.title(\"Comparison of Training and Testing Accuracy for Three Models\")\n",
    "plt.legend()\n",
    "plt.show()"
   ]
  },
  {
   "cell_type": "code",
   "execution_count": 80,
   "id": "31d988ca",
   "metadata": {},
   "outputs": [
    {
     "data": {
      "text/html": [
       "<div>\n",
       "<style scoped>\n",
       "    .dataframe tbody tr th:only-of-type {\n",
       "        vertical-align: middle;\n",
       "    }\n",
       "\n",
       "    .dataframe tbody tr th {\n",
       "        vertical-align: top;\n",
       "    }\n",
       "\n",
       "    .dataframe thead th {\n",
       "        text-align: right;\n",
       "    }\n",
       "</style>\n",
       "<table border=\"1\" class=\"dataframe\">\n",
       "  <thead>\n",
       "    <tr style=\"text-align: right;\">\n",
       "      <th></th>\n",
       "      <th>full_name</th>\n",
       "      <th>selling_price</th>\n",
       "      <th>year</th>\n",
       "      <th>km_driven</th>\n",
       "      <th>fuel_type</th>\n",
       "      <th>transmission_type</th>\n",
       "      <th>mileage</th>\n",
       "      <th>seats</th>\n",
       "    </tr>\n",
       "  </thead>\n",
       "  <tbody>\n",
       "    <tr>\n",
       "      <th>0</th>\n",
       "      <td>0</td>\n",
       "      <td>1.20</td>\n",
       "      <td>2012</td>\n",
       "      <td>120000</td>\n",
       "      <td>0</td>\n",
       "      <td>0</td>\n",
       "      <td>19.70</td>\n",
       "      <td>5</td>\n",
       "    </tr>\n",
       "    <tr>\n",
       "      <th>1</th>\n",
       "      <td>1</td>\n",
       "      <td>5.50</td>\n",
       "      <td>2016</td>\n",
       "      <td>20000</td>\n",
       "      <td>0</td>\n",
       "      <td>0</td>\n",
       "      <td>18.90</td>\n",
       "      <td>5</td>\n",
       "    </tr>\n",
       "    <tr>\n",
       "      <th>2</th>\n",
       "      <td>2</td>\n",
       "      <td>2.15</td>\n",
       "      <td>2010</td>\n",
       "      <td>60000</td>\n",
       "      <td>0</td>\n",
       "      <td>0</td>\n",
       "      <td>17.00</td>\n",
       "      <td>5</td>\n",
       "    </tr>\n",
       "    <tr>\n",
       "      <th>3</th>\n",
       "      <td>3</td>\n",
       "      <td>2.26</td>\n",
       "      <td>2012</td>\n",
       "      <td>37000</td>\n",
       "      <td>0</td>\n",
       "      <td>0</td>\n",
       "      <td>20.92</td>\n",
       "      <td>5</td>\n",
       "    </tr>\n",
       "    <tr>\n",
       "      <th>4</th>\n",
       "      <td>4</td>\n",
       "      <td>5.70</td>\n",
       "      <td>2015</td>\n",
       "      <td>30000</td>\n",
       "      <td>1</td>\n",
       "      <td>0</td>\n",
       "      <td>22.77</td>\n",
       "      <td>5</td>\n",
       "    </tr>\n",
       "  </tbody>\n",
       "</table>\n",
       "</div>"
      ],
      "text/plain": [
       "   full_name  selling_price  year  km_driven  fuel_type  transmission_type   \n",
       "0          0           1.20  2012     120000          0                  0  \\\n",
       "1          1           5.50  2016      20000          0                  0   \n",
       "2          2           2.15  2010      60000          0                  0   \n",
       "3          3           2.26  2012      37000          0                  0   \n",
       "4          4           5.70  2015      30000          1                  0   \n",
       "\n",
       "   mileage  seats  \n",
       "0    19.70      5  \n",
       "1    18.90      5  \n",
       "2    17.00      5  \n",
       "3    20.92      5  \n",
       "4    22.77      5  "
      ]
     },
     "execution_count": 80,
     "metadata": {},
     "output_type": "execute_result"
    }
   ],
   "source": [
    "car.head()"
   ]
  },
  {
   "cell_type": "code",
   "execution_count": 81,
   "id": "6692e822",
   "metadata": {},
   "outputs": [],
   "source": [
    "# pip install gradio\n"
   ]
  },
  {
   "cell_type": "code",
   "execution_count": 82,
   "id": "566b7939",
   "metadata": {
    "scrolled": true
   },
   "outputs": [
    {
     "name": "stderr",
     "output_type": "stream",
     "text": [
      "C:\\Users\\DELL\\anaconda3\\lib\\site-packages\\gradio\\inputs.py:217: UserWarning: Usage of gradio.inputs is deprecated, and will not be supported in the future, please import your component from gradio.components\n",
      "  warnings.warn(\n",
      "C:\\Users\\DELL\\anaconda3\\lib\\site-packages\\gradio\\deprecation.py:40: UserWarning: `optional` parameter is deprecated, and it has no effect\n",
      "  warnings.warn(value)\n",
      "C:\\Users\\DELL\\anaconda3\\lib\\site-packages\\gradio\\inputs.py:59: UserWarning: Usage of gradio.inputs is deprecated, and will not be supported in the future, please import your component from gradio.components\n",
      "  warnings.warn(\n",
      "C:\\Users\\DELL\\anaconda3\\lib\\site-packages\\gradio\\outputs.py:22: UserWarning: Usage of gradio.outputs is deprecated, and will not be supported in the future, please import your components from gradio.components\n",
      "  warnings.warn(\n",
      "C:\\Users\\DELL\\anaconda3\\lib\\site-packages\\gradio\\interface.py:330: UserWarning: The `allow_flagging` parameter in `Interface` nowtakes a string value ('auto', 'manual', or 'never'), not a boolean. Setting parameter to: 'never'.\n",
      "  warnings.warn(\n"
     ]
    },
    {
     "name": "stdout",
     "output_type": "stream",
     "text": [
      "Running on local URL:  http://127.0.0.1:7860\n",
      "\n",
      "To create a public link, set `share=True` in `launch()`.\n"
     ]
    },
    {
     "data": {
      "text/html": [
       "<div><iframe src=\"http://127.0.0.1:7860/\" width=\"100%\" height=\"500\" allow=\"autoplay; camera; microphone; clipboard-read; clipboard-write;\" frameborder=\"0\" allowfullscreen></iframe></div>"
      ],
      "text/plain": [
       "<IPython.core.display.HTML object>"
      ]
     },
     "metadata": {},
     "output_type": "display_data"
    },
    {
     "data": {
      "text/plain": []
     },
     "execution_count": 82,
     "metadata": {},
     "output_type": "execute_result"
    }
   ],
   "source": [
    "import gradio as gr\n",
    "import joblib\n",
    "\n",
    "\n",
    "\n",
    "# Train and save the model\n",
    "model = car\n",
    "joblib.dump(model, \"car_price_prediction_model.joblib\")\n",
    "\n",
    "\n",
    "# Load the trained machine learning model\n",
    "model = joblib.load('car_price_prediction_model.joblib')\n",
    "\n",
    "# Define the function for making predictions\n",
    "def predict_price(full_name, year, km_driven,fuel_type,transmission_type, mileage,seats):\n",
    "    # Convert input values to numerical format\n",
    "    year = int(year)\n",
    "    km_driven = int(km_driven)\n",
    "    mileage = float(mileage)\n",
    "    seats = int(seats)\n",
    "    # Make a prediction using the loaded model\n",
    "    predicted_price = model.predict([[full_name, year, km_driven,fuel_type,transmission_type, mileage,seats]])\n",
    "    # Return the predicted price as output\n",
    "    return predicted_price[0]\n",
    "\n",
    "# Define the input and output components for the Gradio interface\n",
    "inputs = [\n",
    "    gr.inputs.Dropdown(choices=['Maruti Alto Std', 'Hyundai Grand i10', 'Hyundai i20 Asta',\n",
    "       'Maruti Alto K10', 'Ford Ecosport 2015-2021', 'Maruti Wagon R',\n",
    "       'Hyundai i10 Sportz', 'Hyundai Venue SX', 'Mahindra TUV 300',\n",
    "       'Tata Indigo LX', 'Renault Captur Platine', 'Maruti Swift VXI',\n",
    "       'Nissan Micra XL', 'Hyundai Verna 1.6', 'Renault Duster 110PS',\n",
    "       'Mini Cooper Cooper', 'Maruti Ciaz ZDi', 'Maruti Swift VDI',\n",
    "       'Mercedes-Benz C-Class C', 'Toyota Innova 2.5',\n",
    "       'Maruti Baleno Zeta', 'Maruti Swift Dzire', 'Fiat Grande Punto',\n",
    "       'Volkswagen Vento 1.6', 'Hyundai Creta 1.6', 'Mahindra Xylo H9',\n",
    "       'Honda City i', 'Mahindra Bolero SLE', 'Honda City 2017-2020',\n",
    "       'Hyundai i20 Active', 'Toyota Fortuner 4x2',\n",
    "       'Renault KWID Climber', 'Honda Amaze S', 'Hyundai Santro Xing',\n",
    "       'Mahindra XUV500 W8', 'Mahindra Xylo E8', 'Chevrolet Sail 1.3',\n",
    "       'Hyundai Xcent 1.2', 'Hyundai i20 1.4', 'Hyundai i20 1.2',\n",
    "       'Tata Indigo LS', 'Ambassador Avigo 1800', 'Mahindra Bolero B6',\n",
    "       'Tata Nano Cx', 'Mahindra KUV100 NXT', 'Toyota Etios G',\n",
    "       'Maruti Baleno Vxi', 'Maruti Ignis 1.2', 'Toyota Corolla Altis',\n",
    "       'Datsun RediGO Gold', 'Tata Indigo eLX', 'Tata Vista TDI',\n",
    "       'Maruti Omni E', 'Mahindra Scorpio 1.99',\n",
    "       'Volkswagen Vento Diesel', 'Mahindra Marazzo M2',\n",
    "       'Hyundai Verna SX', 'Mahindra XUV500 W11', 'Ford Aspire 1.2',\n",
    "       'Ford Figo 1.2P', 'Honda Amaze E', 'Mahindra Supro VX',\n",
    "       'Honda City V', 'Renault KWID RXL', 'Maruti Vitara Brezza',\n",
    "       'Hyundai i20 Magna', 'Maruti Swift VDi', 'Tata Tiago 1.2',\n",
    "       'Mahindra Scorpio S10', 'Volkswagen Polo 1.2', 'Kia Seltos HTK',\n",
    "       'Maruti Baleno Delta', 'Maruti Alto 800', 'Chevrolet Beat Diesel',\n",
    "       'Ford Figo Petrol', 'Toyota Etios GD', 'Volkswagen Polo Diesel',\n",
    "       'Hyundai Verna CRDi', 'Hyundai i20 2015-2017',\n",
    "       'Maruti Celerio VXI', 'Renault KWID 1.0', 'Nissan Terrano XL',\n",
    "       'Maruti Swift VXi', 'Hyundai i20 Sportz', 'Hyundai Santa Fe',\n",
    "       'Hyundai i10 Magna', 'Datsun GO Plus', 'BMW 5 Series',\n",
    "       'Chevrolet Beat LT', 'Hyundai Santro LP', 'Mahindra Scorpio VLX',\n",
    "       'Ford Aspire 1.5', 'Honda CR-V 2.0L', 'Toyota Etios Liva',\n",
    "       'Ford Endeavour 3.2', 'Honda Amaze VX', 'Mahindra KUV 100',\n",
    "       'Chevrolet Aveo 1.4', 'Renault Duster 85PS', 'Honda Jazz 1.2',\n",
    "       'Chevrolet Sail 1.2', 'Mitsubishi Pajero Sport',\n",
    "       'Maruti Swift AMT', 'Tata Indica Vista', 'BMW 3 Series',\n",
    "       'Maruti Ritz VXI', 'Maruti S-Cross 2017-2020', 'Tata Sumo Gold',\n",
    "       'Maruti Ciaz VXi', 'Honda New Accord', 'Honda City 1.5',\n",
    "       'Audi Q5 40', 'Audi A4 2.0', 'Ford Figo Diesel',\n",
    "       'Mahindra Bolero DI', 'Tata Tigor 1.05', 'Mahindra Scorpio SLE',\n",
    "       'Maruti Swift DDiS', 'Tata Manza ELAN', 'Toyota Etios VX',\n",
    "       'Honda Brio S', 'Kia Seltos GTK', 'Maruti Celerio ZXI',\n",
    "       'Mahindra Xylo E4', 'Hyundai Verna 1.4', 'Maruti SX4 S',\n",
    "       'Audi Q3 2.0', 'Maruti Ertiga VDI', 'Tata Safari Storme',\n",
    "       'Mahindra Bolero 2011-2019', 'Tata Manza Aura',\n",
    "       'Nissan Sunny Diesel', 'Maruti Swift VVT', 'Nissan Micra Diesel',\n",
    "       'Toyota Fortuner 4x4', 'Honda Brio E', 'Mercedes-Benz GLA AMG',\n",
    "       'Nissan Micra XV', 'Maruti Ciaz 1.3', 'Renault KWID RXT',\n",
    "       'Toyota Fortuner 2016-2021', 'Mahindra Scorpio M2DI', 'Audi A4 30',\n",
    "       'Honda City i-VTEC', 'Mahindra Thar CRDe', 'Tata Tiago 1.05',\n",
    "       'Hyundai Xcent 1.1', 'Ford Ecosport 1.5', 'Ambassador Avigo 2000',\n",
    "       'Mahindra XUV500 AT', 'Volkswagen Polo Petrol', 'Tata Hexa XT',\n",
    "       'Maruti Zen Estilo', 'Ford Figo Aspire', 'Tata Indica eXeta',\n",
    "       'Skoda Laura 1.9', 'Fiat Avventura Urban', 'Land Rover Discovery',\n",
    "       'Hyundai i10 Asta', 'Honda BRV i-DTEC', 'Honda Jazz VX',\n",
    "       'Hyundai i20 Era', 'Maruti Eeco 5', 'Nissan Terrano XV',\n",
    "       'Ford Endeavour 3.0L', 'Toyota Innova Crysta', 'Audi A6 2.0',\n",
    "       'Mercedes-Benz E-Class E', 'Mahindra Quanto C8', 'Mini Cooper 3',\n",
    "       'Maruti Ertiga ZDI', 'Audi Q7 2006-2020', 'Hyundai Santro Sportz',\n",
    "       'Mahindra Scorpio 2009-2014', 'Mahindra Scorpio S7',\n",
    "       'Maruti Swift LXI', 'Mahindra NuvoSport N8', 'Mahindra XUV500 W6',\n",
    "       'Maruti Alto LXi', 'Renault Koleos 2.0', 'Audi A3 cabriolet',\n",
    "       'Honda Brio V', 'Renault KWID AMT', 'Toyota Fortuner 4X2',\n",
    "       'Renault Captur 1.5', 'Maruti Ciaz VDi', 'Renault Scala Diesel',\n",
    "       'Tata Tigor 1.2', 'Jaguar XF 2.2', 'Audi Q3 35',\n",
    "       'Maruti Ciaz Alpha', 'Ford Figo 1.5D', 'Tata Zest Quadrajet',\n",
    "       'Mercedes-Benz CLA 200', 'Maruti SX4 Vxi', 'Daewoo Matiz SA',\n",
    "       'Audi A6 35', 'Bentley Mulsanne 6.8', 'MG Hector Smart',\n",
    "       'Honda Brio 1.2', 'Maruti Swift ZDI', 'Toyota Fortuner 3.0',\n",
    "       'Mahindra Marazzo M8', 'Honda Jazz V', 'Renault Scala RxL',\n",
    "       'Hyundai EON Era', 'Volkswagen Ameo 1.2', 'Chevrolet Spark 1.0',\n",
    "       'Mercedes-Benz GLE Class', 'Maruti Swift 1.2', 'Maruti Ritz VDi',\n",
    "       'Honda Civic 1.8', 'Maruti Kizashi CVT', 'Mahindra Supro LX',\n",
    "       'Mahindra Scorpio S3', 'Mahindra XUV500 W10',\n",
    "       'Isuzu D-Max V-Cross', 'Maruti Ertiga VXI', 'MG Hector Hybrid',\n",
    "       'Mercedes-Benz E-Class E250', 'Maruti Ertiga BSIV',\n",
    "       'Maruti Baleno Alpha', 'Skoda Fabia 1.2', 'BMW X1 sDrive20d',\n",
    "       'Maruti Celerio LXI', 'Maruti Eeco CNG', 'Maruti Ertiga SHVS',\n",
    "       'Skoda Rapid 1.6', 'Ford Freestyle Trend', 'Tata Bolt Revotron',\n",
    "       'Maruti Swift ZDi', 'Skoda Superb 1.8',\n",
    "       'Mercedes-Benz C-Class 220', 'Chevrolet Captiva LT',\n",
    "       'Mahindra Scorpio S2', 'Hyundai Verna VTVT', 'Maruti SX4 ZXI',\n",
    "       'BMW 1 Series', 'Honda Brio VX', 'Toyota Platinum Etios',\n",
    "       'Tata Indica GLS', 'Tata Nexon 1.5', 'Datsun GO A',\n",
    "       'Mahindra Bolero SLX', 'Hyundai i20 Petrol', 'Mahindra XUV300 W8',\n",
    "       'Maruti A Star', 'Tata Nexon 1.2', 'Tata Zest Premio',\n",
    "       'Skoda Superb Elegance', 'Maruti Dzire VXI', 'Volvo S90 D4',\n",
    "       'Volvo S60 2015-2020', 'Nissan Sunny XL', 'Hyundai i10 Era',\n",
    "       'Honda WR-V i-VTEC', 'Maruti XL6 Alpha', 'Kia Seltos HTX',\n",
    "       'Maruti Baleno Sigma', 'Skoda Rapid 1.5', 'BMW X1 xDrive',\n",
    "       'Tata Zest Revotron', 'Mahindra XUV500 W7', 'Volkswagen Polo IPL',\n",
    "       'Tata Xenon XT', 'Fiat Linea Dynamic', 'Maruti Ritz LDi',\n",
    "       'Datsun RediGO D', 'Tata Safari 2005-2017', 'Maruti Ciaz AT',\n",
    "       'Renault Pulse Petrol', 'Tata Indica DLE', 'Maruti Alto LXI',\n",
    "       'Mercedes-Benz GLA Class', 'Honda Amaze EX', 'Audi A5 Sportback',\n",
    "       'Tata Indica eLS', 'Tata Indigo eVX', 'Maruti Celerio X',\n",
    "       'Volkswagen Vento 1.2', 'Maruti Swift ZXI', 'Renault Triber RXZ',\n",
    "       'Audi A4 35', 'Nissan Micra Active', 'Hyundai EON LPG',\n",
    "       'Maruti Ciaz Delta', 'Datsun RediGO 1.0',\n",
    "       'Volkswagen CrossPolo 1.2', 'Ford Ikon 1.3', 'Mahindra Scorpio EX',\n",
    "       'Datsun GO T', 'Lexus ES 300h', 'Jeep Wrangler 2016-2019',\n",
    "       'Honda Amaze V', 'Toyota Camry Hybrid', 'Honda Mobilio V',\n",
    "       'Honda Jazz X', 'Fiat Linea Emotion', 'Honda Jazz 1.5',\n",
    "       'Hyundai Elantra CRDi', 'Toyota Yaris J', 'Audi A4 2008-2014',\n",
    "       'Volkswagen Polo 1.5', 'Volkswagen Ameo 1.5',\n",
    "       'Volkswagen Vento 1.5', 'Renault Lodgy 85PS', 'Hyundai Accent GLE',\n",
    "       'Chevrolet Beat LS', 'Mahindra Scorpio S9', 'Maruti Omni 8',\n",
    "       'Mercedes-Benz GL-Class 350', 'Premier Rio LX',\n",
    "       'Hyundai Verna Transform', 'Mitsubishi Pajero 2.8',\n",
    "       'Honda City VX', 'Maruti Ertiga ZXI', 'Ford Classic 1.4',\n",
    "       'Volkswagen Vento Petrol', 'Honda Jazz S', 'BMW X1 sDrive',\n",
    "       'Maruti Estilo LXI', 'Maruti Eeco Flexi', 'Fiat Punto 1.3',\n",
    "       'Hyundai Verna Xi', 'Honda CR-V 2.4L', 'Mitsubishi Pajero 4X4',\n",
    "       'Honda Amaze SX', 'Fiat Punto 1.2', 'Maruti Ritz VDI',\n",
    "       'Honda Jazz Mode', 'Mercedes-Benz E-Class Exclusive',\n",
    "       'Honda CR-V 2.4', 'Maruti Ritz ZXi', 'Renault Pulse RxL',\n",
    "       'Tata Indigo eGLX', 'Maruti Ciaz 1.4', 'Maruti Swift Ldi',\n",
    "       'Tata Indigo eLS', 'BMW 7 Series', 'Maruti S-Presso VXI',\n",
    "       'Mahindra XUV500 2011-2015', 'Maruti Swift 1.3',\n",
    "       'Mahindra Bolero Power', 'Tata Tiago 2019-2020', 'Maruti Ciaz VDI',\n",
    "       'Hyundai Creta 1.4', 'Audi A4 New', 'Mahindra Xylo D4',\n",
    "       'Maruti Baleno LXI', 'Tata Indica DiCOR', 'Nissan Sunny XE',\n",
    "       'Maruti 800 AC', 'Mahindra Scorpio Intelli', 'Hyundai Elantra 2.0',\n",
    "       'Hyundai Venue S', 'Datsun RediGO T', 'Skoda Yeti Elegance',\n",
    "       'Maruti Eeco 7', 'Hyundai EON Magna', 'Mahindra Scorpio Adventure',\n",
    "       'Hyundai EON D', 'Maruti Dzire LXI', 'Volkswagen Polo 2015-2019',\n",
    "       'Land Rover Range', 'Hyundai Santro Era', 'Renault Lodgy 110PS',\n",
    "       'Honda Jazz Select', 'Renault Pulse RxZ', 'Maruti Ritz VXi',\n",
    "       'Hyundai Aura SX', 'Tata Indica DLS', 'Tata Sumo EX',\n",
    "       'Chevrolet Sail LS', 'Volvo XC 90', 'Mahindra XUV500 W4',\n",
    "       'Audi A6 45', 'Toyota Etios VD', 'Nissan Terrano XE',\n",
    "       'Mahindra Scorpio 2006-2009', 'Mahindra NuvoSport N6',\n",
    "       'Maruti Swift Vdi', 'Mahindra Xylo Celebration', 'Skoda Fabia 1.4',\n",
    "       'Hyundai Santro Asta', 'Maruti Alto XCITE',\n",
    "       'Datsun GO Anniversary', 'Mercedes-Benz E-Class E350',\n",
    "       'BMW 6 Series', 'Maruti Ertiga 1.5', 'Chevrolet Cruze LTZ',\n",
    "       'Mahindra Ingenio CRDe', 'Honda Accord V6', 'Maruti SX4 ZDI',\n",
    "       'Honda BRV i-VTEC', 'Fiat Avventura Power', 'Mahindra Xylo E9',\n",
    "       'Fiat Abarth Punto', 'Tata Indica eLX', 'Honda Mobilio S',\n",
    "       'Toyota Etios V', 'Toyota Camry 2.5', 'Mahindra Scorpio LX',\n",
    "       'Renault Triber RXL', 'Hyundai Accent GLS', 'Maruti Ciaz S',\n",
    "       'Bentley Continental GT', 'Honda WR-V i-DTEC', 'Honda City ZX',\n",
    "       'Mahindra Thar 4X4', 'Honda CR V', 'Chevrolet Sail Hatchback',\n",
    "       'Maruti Alto LX', 'Maruti Ertiga LXI', 'Porsche Cayenne Diesel',\n",
    "       'Maruti Swift LDI', 'BMW X3 2.0d', 'Volkswagen Jetta 1.9',\n",
    "       'Hyundai Santro GLS', 'Ford Fiesta Classic',\n",
    "       'Mercedes-Benz A Class', 'Tata Hexa XE', 'Maruti Swift LXi',\n",
    "       'Volkswagen Vento TSI', 'Hyundai EON 1.0', 'Fiat Punto EVO',\n",
    "       'Nissan Kicks 1.3', 'Mercedes-Benz S-Class S',\n",
    "       'Skoda Superb Style', 'Tata Sumo MKII', 'Hyundai Sonata 2.4',\n",
    "       'Tata Hexa XM', 'Force One SX', 'MG Hector Sharp',\n",
    "       'Ford Fiesta 1.6', 'Hyundai Sonata 2.0L', 'Maruti Alto STD',\n",
    "       'Maruti Ciaz RS', 'Fiat Linea Classic', 'Toyota Camry W3',\n",
    "       'Hyundai Tucson 2.0', 'Tata Indica V2', 'Maruti Ignis Zeta',\n",
    "       'Fiat Linea 1.3', 'Tata Harrier XZ', 'Mahindra Scorpio Getaway',\n",
    "       'Toyota Etios Cross', 'Mahindra Xylo D2', 'Maruti Celerio ZDi',\n",
    "       'Mahindra Scorpio S4', 'BMW X3 xDrive20d',\n",
    "       'Mahindra Scorpio Gateway', 'Ford Endeavour 2.5L',\n",
    "       'Mahindra Bolero GLX', 'Maruti Versa DX1', 'Skoda Octavia Zeal',\n",
    "       'Mahindra Bolero B4', 'Land Rover Freelander',\n",
    "       'Skoda Laura Ambiente', 'Honda Amaze Anniversary',\n",
    "       'Ford Fiesta Titanium', 'Ford Figo Titanium',\n",
    "       'Mahindra Ssangyong Rexton', 'Mahindra Scorpio VLS',\n",
    "       'Volkswagen Vento IPL', 'Maruti Ciaz ZXi', 'Chevrolet Enjoy 1.3',\n",
    "       'Hyundai Elantra 1.6', 'Tata Nano Lx', 'Skoda Octavia 1.8',\n",
    "       'Mahindra Verito 1.5', 'Skoda Superb Zeal', 'Hyundai Getz 1.1',\n",
    "       'Datsun RediGO A', 'Chevrolet Enjoy Petrol',\n",
    "       'Mini Cooper Countryman', 'Maruti Celerio Green',\n",
    "       'Jeep Compass 1.4', 'Mercedes-Benz CLS 250', 'Mahindra XUV500 R',\n",
    "       'Honda Civic ZX', 'Jaguar XJ 3.0L', 'Volkswagen Jetta 2.0L',\n",
    "       'Maruti Alto Green', 'Hyundai EON Sportz', 'Datsun redi-GO AMT',\n",
    "       'Ford Aspire Titanium', 'Hyundai Accent Executive',\n",
    "       'Mahindra Bolero ZLX', 'Fiat Avventura MULTIJET',\n",
    "       'Skoda Superb LK', 'Honda BR-V Style', 'Mercedes-Benz E-Class 280',\n",
    "       'Mercedes-Benz B-Class B200', 'Skoda Laura L', 'Tata Hexa XMA',\n",
    "       'Chevrolet Tavera Neo', 'Jeep Compass 2.0', 'Maruti Ignis 1.3',\n",
    "       'Mahindra Jeep CJ', 'Skoda Superb 3.6', 'Volkswagen Polo GTI',\n",
    "       'Toyota Corolla H7', 'Skoda Octavia Elegance',\n",
    "       'Mercedes-Benz E-Class E200', 'Mercedes-Benz GL-Class 220d',\n",
    "       'Hyundai Santro DX', 'Audi Q5 2.0', 'Mahindra E Verito',\n",
    "       'Hyundai i20 Diesel', 'Maruti Ertiga CNG',\n",
    "       'Mitsubishi Outlander 2.4', 'Volkswagen Polo 1.0',\n",
    "       'Toyota Camry A/T', 'Hyundai Xcent 2016-2017', 'Tata Nano XTA',\n",
    "       'Honda Mobilio RS', 'Volkswagen Beetle 1.4',\n",
    "       'Hyundai Santro Magna', 'Mercedes-Benz E-Class 200',\n",
    "       'Volkswagen Polo GT', 'Maruti Zen LXI', 'Mercedes-Benz M-Class ML',\n",
    "       'Tata Tiago Wizz', 'Renault Fluence E4', 'Mahindra Thar DI',\n",
    "       'Audi Q3 30', 'Mahindra Quanto C4', 'Honda City 1.3',\n",
    "       'Ford Fiesta Diesel', 'Datsun RediGO S', 'Maruti SX4 Zxi',\n",
    "       'Mahindra Scorpio S6', 'Audi A3 35', 'Skoda Fabia 1.6',\n",
    "       'Skoda Octavia Ambition', 'Honda City CNG', 'Chevrolet Aveo U-VA',\n",
    "       'Maruti Celerio VXi', 'Tata Tiago NRG', 'Toyota Qualis GS',\n",
    "       'Tata Bolt Quadrajet', 'Skoda Octavia Style', 'Maruti Ritz ZDi',\n",
    "       'Toyota Glanza V', 'Chevrolet Enjoy TCDi', 'Chevrolet Aveo 1.6',\n",
    "       'Ford Fiesta 1.5', 'Volkswagen Jetta 1.4',\n",
    "       'Volkswagen Vento 2013-2015', 'Honda City E',\n",
    "       'Volkswagen Jetta 2.0', 'Honda City SV', 'Ford Fiesta 1.4',\n",
    "       'Fiat Linea 1.4', 'Tata Nano Twist', 'Volkswagen Jetta 1.6',\n",
    "       'Jeep Compass Black', 'Maruti Swift RS', 'Mercedes-Benz SLK 350',\n",
    "       'Volkswagen Passat 2.0', 'Honda CR-V 2.0',\n",
    "       'Chevrolet Trailblazer LTZ', 'Chevrolet Tavera LS',\n",
    "       'Hyundai Elantra SX', 'Kia Seltos GTX', 'Ford Freestyle Ambiente',\n",
    "       'Honda City i-DTEC', 'Maruti Swift ZXi', 'Nissan Kicks XE',\n",
    "       'Maruti Dzire ZXI', 'Maruti Ciaz Sigma', 'Chevrolet Beat PS',\n",
    "       'Maruti Ciaz Zeta', 'Honda Brio EX', 'Honda City S',\n",
    "       'Jaguar XF 2.0', 'Mercedes-Benz C-Class 200', 'Tata Indigo CR4',\n",
    "       'Mercedes-Benz GL-Class Progressive', 'Skoda Yeti Ambition',\n",
    "       'Mahindra Logan Petrol', 'Mercedes-Benz GLC 220d', 'Tata Nano XT',\n",
    "       'Ford Ecosport 1.0', 'Renault Duster Petrol', 'Tata Manza Club',\n",
    "       'Tata Manza Aqua', 'Tata Tigor EV', 'Maruti Baleno RS',\n",
    "       'Mercedes-Benz B Class', 'Skoda Laura 1.8',\n",
    "       'Mahindra Scorpio BSIV', 'Toyota Land Cruiser', 'Fiat Punto 1.4',\n",
    "       'Toyota Corolla H4', 'Tata Indica LX', 'Tata Venture GX',\n",
    "       'Volvo S60 D3', 'Honda Jazz Active', 'Maruti Eeco Smiles',\n",
    "       'Mahindra Scorpio SLX', 'Tata Indigo GLS', 'Fiat 500 Lounge',\n",
    "       'Volkswagen CrossPolo 1.5', 'Volvo XC90 D5', 'Volvo S60 D4',\n",
    "       'Audi Q3 2015-2017', 'Audi A6 2.7', 'Lamborghini Gallardo Spyder',\n",
    "       'Jaguar XJ 50', 'Chevrolet Captiva 2.2', 'Tata Indigo TDI',\n",
    "       'Nissan Kicks 1.5', 'Mercedes-Benz C-Class 250', 'BMW X3 xDrive',\n",
    "       'Skoda Fabia 1.2L', 'Audi Q5 30', 'Mahindra XUV300 W6',\n",
    "       'Volkswagen Passat Diesel', 'Maruti SX4 Green', 'Tata Tigor XZ',\n",
    "       'Renault Duster 1.5', 'Tata Hexa XTA', 'Mercedes-Benz E-Class 220',\n",
    "       'Mahindra XUV500 W9', 'Jaguar F-PACE Prestige', 'Mahindra Xylo H4',\n",
    "       'Tata Indigo eGVX', 'Toyota Yaris V', 'Audi A4 3.0',\n",
    "       'Toyota Corolla H5', 'Chevrolet Optra Magnum',\n",
    "       'Volkswagen Polo Select', 'Skoda Kodiaq 2.0', 'Hyundai Santro GS',\n",
    "       'BMW X5 3.0d', 'Honda WR-V Alive', 'Mercedes-Benz A-Class A180',\n",
    "       'Ford Figo 1.5P', 'Skoda Octavia 2.0', 'Maruti Ritz LXI',\n",
    "       'Skoda Laura Ambition', 'Renault KWID Reloaded', 'Maruti Versa DX',\n",
    "       'Audi A8 L', 'Toyota Yaris G', 'Mercedes-Benz E-Class Expression',\n",
    "       'Datsun RediGO Sport', 'Mini Clubman Cooper', 'ISUZU MUX 4X4',\n",
    "       'Volkswagen Tiguan 2.0', 'Toyota prado Diesel',\n",
    "       'Honda WR-V Exclusive', 'Volkswagen Vento Konekt',\n",
    "       'Nissan Sunny AT', 'Audi A3 40', 'Renault Fluence 2.0',\n",
    "       'Mahindra Renault Logan', 'Premier Rio Petrol', 'Jaguar XF 3.0',\n",
    "       'Maruti Ritz LXi', 'Hyundai i10 LPG', 'Datsun RediGO AMT',\n",
    "       'Mahindra Scorpio 2.6', 'BMW X5 xDrive', 'Fiat Palio Stile',\n",
    "       'Ferrari GTC4Lusso T', 'Toyota Innova 2.0', 'Tata Sumo SA',\n",
    "       'Mercedes-Benz S-Class S350L', 'Mahindra Thar 700',\n",
    "       'Mahindra Quanto C2', 'Mahindra Scorpio S8',\n",
    "       'Mahindra Scorpio S11', 'Tata Sumo Victa', 'Chevrolet Optra 1.8',\n",
    "       'Mercedes-Benz CLS 350', 'Ford Freestyle Titanium',\n",
    "       'Tata Vista Quadrajet', 'Maruti Celerio VDi',\n",
    "       'Mercedes-Benz B-Class B180', 'Maruti Gypsy King', 'Maruti Omni 5',\n",
    "       'Mitsubishi Lancer 2.0', 'Fiat Linea T', 'Renault Lodgy Stepway',\n",
    "       'Volvo V40 Cross', 'Audi S4 3.0', 'Maruti Ritz ZXI',\n",
    "       'Chevrolet Tavera NY', 'Mahindra Jeep MM', 'Tata Aria Prestige',\n",
    "       'Mercedes-Benz C-Class 180', 'Renault KWID IRON',\n",
    "       'Hyundai Getz GLE', 'Chevrolet Tavera B1-10',\n",
    "       'Chevrolet Tavera B2-10', 'Chevrolet Optra 1.6',\n",
    "       'Mahindra Thar 4X2', 'Maruti SX4 VDI', 'Tata Harrier XM',\n",
    "       'Volvo S60 D5', 'Toyota Corolla Executive', 'Nissan X-Trail LE',\n",
    "       'Honda Amaze Ace', 'Mahindra Bolero Pik-Up', 'Mahindra Scorpio S5',\n",
    "       'Maruti Esteem VXi', 'Jaguar XE 2016-2019', 'Hyundai Santro LS',\n",
    "       'Chevrolet Enjoy 1.4', 'Audi A4 1.8', 'Hyundai Terracan CRDi',\n",
    "       'Renault Fluence Diesel', 'Toyota Innova VX', 'Mini Cooper Hatch',\n",
    "       'Nissan Kicks XV', 'Ford Figo 1.5', 'Toyota Yaris VX',\n",
    "       'Toyota Corolla H3', 'Ford Classic 1.6', 'BMW X6 xDrive',\n",
    "       'Renault Duster Adventure', 'Honda Mobilio E', 'Datsun RediGO SV',\n",
    "       'Tata Indica eL', 'Maruti Ignis Delta', 'Volvo V40 D3',\n",
    "       'Nissan Evalia XV', 'Honda WR-V Edge', 'Maruti Alto VXi',\n",
    "       'Mercedes-Benz GL-Class 300', 'Mahindra XUV500 Xclusive',\n",
    "       'Tata Zest AMT', 'OpelCorsa 1.4Gsi', 'Tata Indica LSI',\n",
    "       'Toyota Corolla H2', 'Maruti 800 DUO', 'Nissan Micra AT',\n",
    "       'Volvo XC60 D4', 'Skoda Octavia L', 'Skoda Laura Elegance',\n",
    "       'Nissan Sunny XV', 'Porsche Panamera Base', 'Tata Nexon XZA',\n",
    "       'Volkswagen GTI 1.8', 'Volkswagen Ameo 1.0',\n",
    "       'Mitsubishi Lancer 1.5', 'Mahindra Bolero PLUS', 'Tata Sumo LX',\n",
    "       'Maruti Swift Glam', 'Tata Indica DLX', 'Mahindra Scorpio Vlx',\n",
    "       'Datsun GO D', 'Skoda Rapid 2011-2013', 'Toyota Glanza G',\n",
    "       'Datsun redi-GO 1.0', 'Hyundai Santro 2018', 'Renault Koleos 4X2',\n",
    "       'Honda Accord VTi-L', 'Tata Indigo LE', 'Hyundai Santro AT',\n",
    "       'Mahindra Xylo E2', 'Audi TT Coupe', 'Ford Figo 1.2', 'Isuzu MU 7',\n",
    "       'Ford Fiesta Petrol', 'Tata Aria Pride', 'BMW M Series',\n",
    "       'Mahindra Marazzo M6', 'Skoda Octavia Ambiente',\n",
    "       'Hyundai Getz GLS', 'Jaguar XF Aero', 'Renault Koleos 4X4',\n",
    "       'Fiat Punto Pure', 'Tata Indigo eGLS', 'Maruti Omni LPG',\n",
    "       'Ford Ikon 1.6', 'Mitsubishi Montero 3.2', 'Maruti Omni Limited',\n",
    "       'BMW X3 xDrive30d', 'Tata Indica 1.2', 'Mahindra Bolero XL',\n",
    "       'Volvo XC60 D3', 'Toyota Qualis FS', 'Ford Escort 1.8',\n",
    "       'Audi Q5 3.0', 'Audi A6 3.0', 'Mahindra Marazzo M4',\n",
    "       'Force One 4X2', 'Tata Indigo GLX', 'Skoda Octavia Rider',\n",
    "       'Volkswagen Vento Corporate', 'Skoda Superb Sportline',\n",
    "       'Skoda Superb 2.8', 'Honda WR-V VX', 'Mercedes-Benz CLK Class',\n",
    "       'Kia Sonet 1.5', 'Maruti Alto Vxi', 'Jaguar F-Pace Pure',\n",
    "       'Mahindra Xylo E6', 'Mahindra Alturas G4', 'Datsun redi-GO T',\n",
    "       'Ambassador Classic 2000', 'Mahindra Xylo H8', 'Toyota Corolla AE',\n",
    "       'Ford Ikon 1.8', 'Mercedes-Benz E-Class E240', 'Renault KWID RXE',\n",
    "       'Mitsubishi Cedia Spirit', 'Mercedes-Benz CLA Urban',\n",
    "       'Nissan Teana 230jM', 'Tata Tiago XE', 'Mahindra Verito Vibe',\n",
    "       'Nissan Terrano Groove', 'Hyundai Elantra Facelift',\n",
    "       'Ford Endeavour Hurricane', 'Maruti Omni CNG',\n",
    "       'Mahindra Quanto C6', 'Ford Endeavour 4x2', 'Mahindra XUV500 W5',\n",
    "       'Tata Venture EX', 'Jaguar XF Diesel', 'Volvo S 80',\n",
    "       'Chevrolet Tavera B3', 'Renault Fluence E2',\n",
    "       'Mercedes-Benz A-Class A200', 'Mercedes-Benz CLS-Class 350',\n",
    "       'Tata Tigor JTP', 'Hyundai Accent GLX', 'Skoda Octavia Active',\n",
    "       'Toyota Corolla H1', 'Maruti SX4 Celebration', 'Tata Altroz XM',\n",
    "       'Hyundai Getz 1.3', 'Ford Endeavour 2.2', 'Fiat Abarth Avventura',\n",
    "       'Tata Sumo GX', 'Maruti Omni MPI', 'Nissan Micra Fashion',\n",
    "       'BMW Z4 35i', 'Renault Duster RXL', 'Lexus NX 300h',\n",
    "       'Nissan Evalia 2013', 'Mercedes-Benz C-Class 230', 'Volvo XC60 D5',\n",
    "       'Chevrolet Tavera B1', 'Hyundai Verna i', 'Tata Indigo GLE',\n",
    "       'Chevrolet Tavera B1-7', 'Renault KWID STD',\n",
    "       'Honda City Corporate', 'Volkswagen Vento New',\n",
    "       'Mahindra e2oPlus P6', 'Honda CR-V RVi', 'Kia Carnival Prestige',\n",
    "       'Porsche Cayenne Turbo', 'Mercedes-Benz C-Class Progressive',\n",
    "       'Renault Duster RXE', 'Toyota Prius Z6', 'Tata Aria Pleasure',\n",
    "       'Tata Sierra Std', 'Porsche Cayenne GTS', 'BMW X4 M',\n",
    "       'Hyundai Creta SX', 'Hyundai Verna XXi',\n",
    "       'Mercedes-Benz CL-Class 500', 'Maruti Ignis Sigma',\n",
    "       'Jaguar XJ 2.0L', 'Skoda Superb Petrol', 'DC Avanti 2.0',\n",
    "       'Chevrolet Captiva LTZ', 'Honda Civic V',\n",
    "       'Mercedes-Benz S-Class Maybach', 'Maruti Ignis Alpha',\n",
    "       'Maruti Swift Star', 'Tata Harrier XT', 'Mini Cooper S',\n",
    "       'Mini 5 DOOR', 'Jaguar XF S', 'Renault Triber RXT',\n",
    "       'Maruti Swift Lxi', 'Mercedes-Benz CLA 45', 'Toyota Etios Diesel',\n",
    "       'Jaguar XE Prestige', 'Mercedes-Benz GLA 45', 'Renault Duster RXZ',\n",
    "       'Porsche Panamera Diesel', 'Skoda Superb Ambition',\n",
    "       'Porsche Cayenne Base', 'Skoda Rapid Leisure', 'Audi A6 2.8',\n",
    "       'Tata Nexon XM', 'Rolls-Royce Ghost Series', 'Mahindra Thar LX',\n",
    "       'Honda Amaze Exclusive', 'Kia Carnival Limousine', 'Honda CR-V AT',\n",
    "       'Honda City Anniversary', 'Nissan X-Trail SLX',\n",
    "       'Skoda Rapid Monte', 'Tata Indica DLG',\n",
    "       'Volkswagen Vento Magnific', 'Maruti Celerio VDI',\n",
    "       'Volkswagen Passat 1.8', 'Tata Nano LX',\n",
    "       'Volkswagen Vento 2015-2019', 'Tata Aria Pure',\n",
    "       'Porsche Cayenne S', 'Renault Duster RXS', 'Chevrolet Beat Option',\n",
    "       'Audi R8 4.2', 'Maruti A-Star VXI', 'BMW Z4 2009-2013',\n",
    "       'Nissan Sunny Petrol', 'Fiat Linea Active', 'Mahindra e2o T2',\n",
    "       'Opel Corsa Sail', 'Honda City Edge', 'Mitsubishi Cedia Elegance',\n",
    "       'Mahindra XUV300 W4', 'Fiat Linea T-Jet', 'Hyundai Creta Facelift',\n",
    "       'MG Hector Super', 'Honda City ZXi', 'Isuzu MUX 2WD',\n",
    "       'Nissan Kicks Diesel', 'Volvo S40 Petrol', 'Skoda Octavia Classic',\n",
    "       'Hyundai Accent CRDi', 'Mitsubishi Cedia Sports',\n",
    "       'Hyundai Verna Anniversary', 'Renault Duster SANDSTORM',\n",
    "       'Tata Sumo CX', 'Skoda Yeti Ambiente', 'Honda City VTEC',\n",
    "       'Hyundai i10 D-Lite', 'Tata Winger Deluxe', 'Nissan Kicks XL',\n",
    "       'Volkswagen Vento 1.0', 'Maruti 800 Std', 'Honda CR-V Diesel',\n",
    "       'Force Gurkha Hard', 'BMW X6 xDrive30d', 'Maruti Ertiga LDI',\n",
    "       'Honda Brio AT', 'Skoda Octavia 1.9', 'Volkswagen Beetle 2.0',\n",
    "       'Maruti Omni BSIII', 'Mahindra e2o Premium', 'Audi S5 Sportback',\n",
    "       'Mercedes-Benz C-Class C250', 'Porsche Boxster S',\n",
    "       'Hyundai Getz 1.5', 'Mercedes-Benz GL-Class Grand',\n",
    "       'Maruti Zen VXi', 'Hyundai Xcent Prime', 'BMW X3 3.0d',\n",
    "       'Mahindra Bolero VLX', 'Maruti Zen LXi', 'Tata Nexon EV',\n",
    "       'Audi A8 4.2', 'Chevrolet Cruze LT', 'ISUZU MUX 4X2',\n",
    "       'Mercedes-Benz E-Class E270', 'Nissan Infiniti Petrol',\n",
    "       'Toyota Qualis RS', 'Nissan Evalia XE', 'Tata Tiago XT',\n",
    "       'Toyota Etios VXD', 'Tata Venture LX', 'Hyundai Kona Premium',\n",
    "       'Tata Nano CX'], label=\"full_name\"),\n",
    "     gr.inputs.Dropdown(choices=['Petrol', 'Diesel', 'CNG', 'LPG', 'Electric'],label=\"fuel_type\"),\n",
    "     gr.inputs.Dropdown(choices=['Manual', 'Automatic'],label=\"transmission_type\"),\n",
    "    gr.inputs.Dropdown(choices=['5', '7', '8', '4', '6','9', '2', '10', '14'], label=\"seats\"),\n",
    "    gr.inputs.Dropdown(choices=[2012, 2016, 2010, 2015, 2013, 2018, 2019, 2017, 2014, 2011, 2007,\n",
    "       2009, 2004, 2020, 2006, 2008, 2000, 2005, 2002, 2003, 2001, 2021],label=\"Year\"),\n",
    "    gr.inputs.Number(label=\"km_driven\"),\n",
    "    gr.inputs.Number(label=\"Mileage\"),\n",
    "]\n",
    "output = gr.outputs.Textbox(label=\"Predicted Price\")\n",
    "\n",
    "# Create the Gradio interface\n",
    "interface = gr.Interface(\n",
    "    fn=predict_price,\n",
    "    inputs=inputs,\n",
    "    outputs=output,\n",
    "    title=\"Car Price Prediction\",\n",
    "    description=\"Predict the price of a car based on make, model, year, and mileage.\",\n",
    "#     examples=[['Toyota', 'Camry', '2019', '30000']],\n",
    "    allow_flagging=False\n",
    ")\n",
    "\n",
    "# Launch the Gradio interface\n",
    "interface.launch()\n"
   ]
  },
  {
   "cell_type": "code",
   "execution_count": null,
   "id": "5c3889fd",
   "metadata": {},
   "outputs": [],
   "source": []
  },
  {
   "cell_type": "code",
   "execution_count": null,
   "id": "20971d13",
   "metadata": {},
   "outputs": [],
   "source": []
  }
 ],
 "metadata": {
  "kernelspec": {
   "display_name": "Python 3 (ipykernel)",
   "language": "python",
   "name": "python3"
  },
  "language_info": {
   "codemirror_mode": {
    "name": "ipython",
    "version": 3
   },
   "file_extension": ".py",
   "mimetype": "text/x-python",
   "name": "python",
   "nbconvert_exporter": "python",
   "pygments_lexer": "ipython3",
   "version": "3.9.13"
  }
 },
 "nbformat": 4,
 "nbformat_minor": 5
}
